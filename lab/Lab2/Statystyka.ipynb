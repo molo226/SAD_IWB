{
 "cells": [
  {
   "cell_type": "markdown",
   "metadata": {},
   "source": [
    "Załaduj niezbędne pakiety:"
   ]
  },
  {
   "cell_type": "code",
   "execution_count": null,
   "metadata": {
    "ExecuteTime": {
     "end_time": "2019-04-19T16:05:15.677518Z",
     "start_time": "2019-04-19T16:05:09.799446Z"
    }
   },
   "outputs": [],
   "source": [
    "%matplotlib inline\n",
    "import pandas as pd\n",
    "import numpy as np\n",
    "from matplotlib import pyplot as plt"
   ]
  },
  {
   "cell_type": "markdown",
   "metadata": {},
   "source": [
    "Notebook obejmuje zbiór podstawowych zadań ze statystyki opisowej i matematycznej. Pomocną literaturą może być niezastąpiona:\n",
    "\n",
    "Ostasiewicz, Rusnak, Siedlecka - *Statystyka. Elementy teorii i zadania*\n",
    "\n",
    "Diez, CetinKaya-Rundel (*eng*) - *OpenIntro Statistics* https://www.openintro.org/stat/ \n",
    "\n",
    "Ta druga jest dostępna w sieci. [...za darmo](https://mobileworld24.pl/wp-content/uploads/2018/09/Nosacz-t%C5%82o.jpg \"Google's Homepage\")\n",
    "\n",
    "\n",
    "Oznaczenia w notebooku: \n",
    "* <font color='blue'>**Wyciąg z teorii**</font>\n",
    "* <font color='red'>**Zadanie do samodzielnego wykonania**</font>"
   ]
  },
  {
   "cell_type": "markdown",
   "metadata": {},
   "source": [
    "## Analiza zależności"
   ]
  },
  {
   "cell_type": "markdown",
   "metadata": {},
   "source": [
    "<font color='blue'>**Korelacja** </font>. Do obliczania poziomu zależności liniowej między dwiema zmiennymi (X,Y) używamy współczynnika korelacji liniowej Pearsona. Przyjmuje on wartości z zakresu $[-1,1]$. \n",
    "\n",
    "$$ r_{xy} = \\frac{\\sum_{i=1}^{n}(x_i - \\overline{X})(y_i - \\overline{Y})}{\\sqrt{\\sum_{i=1}^{n}(x_i - \\overline{X})^2(y_i - \\overline{Y})^2}} $$\n",
    "\n",
    "gdzie: $\\overline{Y}, \\overline{X}$ to średnie wartości zmiennych\n",
    "\n",
    "Dodatnia wartość r mówi o tym, że wzrostowi jednej cechy odpowiada wzrost średnich wartości drugiej cechy. Wartość ujemna - wzrostowi wartości jednej cechy odpowiada spadek średnich wartości drugiej cechy. Wartość bezwzględna współczynnika korelacji Pearsona mówi o sile zależności. W pythonie można uzyskać macierz korelacji za pomocą ``np.corrcoef(x,y)``, a następnie wyciągnąć interesujący nas element macierzy. Alternatywą jest ``scipy.stats.pearsonr(x,y)`` i pierwszy element (czyli ten o indeksie zerowym) zwracanej krotki\n",
    "\n",
    "<font color='blue'>**Regresja**</font>\n",
    "\n",
    "O kształcie zależności mówi nam regresja. Dla cech X i Y, między którymi istnieje liniowa zależność korelacyjna można szacować parametry liniowej funkcji regresji.\n",
    "\n",
    "Regresja Y względem X:\n",
    "\n",
    "$$ \\hat{y} = a_y x + b_y$$\n",
    "\n",
    "$Y$ - cecha zależna, objaśniana\n",
    "$X$ - cecha niezależna, objaśniająca\n",
    "$a_y$ - współczynnik kierunkowy regresji, określa o ile jednostek przeciętnie zmieni się wartość cechy Y, gdy wartość cechy X wzrośnie o jedną jednostkę.\n",
    "\n",
    "$$ a_y = \\frac{\\sum_{i=1}^{n}(x_i - \\overline{X})(y_i - \\overline{Y})}{\\sum_{i=1}^{n}(x_i - \\overline{X})^2} $$ \n",
    "\n",
    "$ b_y $ - wyraz wolny\n",
    "$$ b_y = \\overline{Y} - a_y \\overline{X} $$\n",
    "\n",
    "Do oceny jakości dopasowania funkcji regresji możemy wykorzystać współczynnik determinacji $R^2$. Przyjmuje on wartości z zakresu $[0,1]$. Wyższe wartości oznaczają dobre dopasowanie. Mówi też on o tym jaka część zmienności zmiennej objaśnianej jest wyjaśniana przez model.\n",
    "\n",
    "$$ R^2 = r_{xy}^2 = \\frac{(\\hat{y}_t - \\overline{y})^2}{\\sum_{i=1}^{n}(y_t - \\overline{y})^2}$$\n",
    "\n",
    "Współczynnik zbieżności $\\varphi^2$ przyjmuje wartości z zakresu od $[0,1]$, i w przeciwieństwie do współczynnika determinacji dążymy do jak najmniejszej wartości.\n",
    "\n",
    "$$ \\varphi^2 = 1 - R^2 $$\n",
    "\n",
    "W pythonie możemy skorzystać z ``scipy.stats.linregress(x,y)``"
   ]
  },
  {
   "cell_type": "markdown",
   "metadata": {
    "ExecuteTime": {
     "end_time": "2019-04-03T20:22:53.420879Z",
     "start_time": "2019-04-03T20:22:53.413878Z"
    }
   },
   "source": [
    "<font color='red'>**Korelacja i regresja**</font> Chcąc zbadać zależność między ilością emitowanych dziennie w TV reklam pewnego proszku do prania a wysokością obrotów przeprowadzono badanie. Wyniki podano w poniższej tabeli:\n",
    "\n",
    "|Liczba reklam |\t3| \t4| \t5| \t6| \t5| \t7| \n",
    "| --- | --- | --- | --- | --- | --- |--- |\n",
    "|Obroty [tys. zł]| \t12| 13| 16| 18| 15| 22 |\n",
    "\n",
    "a) Sporządzić wykres rozrzutu. Obliczyć współczynnik korelacji Pearsona. Czy istnieje zależność między ilością reklam a wielkością obrotów? Jeżeli zależność istnieje to jaka jest jej siła? \n",
    "\n",
    "b) Wyznaczyć prostą regresji obrotów względem liczby reklam. Podać interpretację parametrów regresji.\n",
    "\n",
    "c) Wyznaczyć prostą regresji liczby reklam względem obrotów. Podać interpretację parametrów regresji.\n",
    "\n",
    "d) Jeśli zwiększymy ilość reklam do 8 dziennie, to jakie będą spodziewane obroty? \n",
    "\n",
    "e) Otrzymano obroty 17 tys. zł, jaka była przypuszczalna liczba reklam dziennie? \n",
    "\n",
    "f) W jakim procencie liczba reklam jest wyjaśniana przez obroty?\n",
    "\n",
    "g) Obliczyć współczynnik zbieżności. Zinterpretować otrzymany wynik. "
   ]
  },
  {
   "cell_type": "code",
   "execution_count": null,
   "metadata": {
    "ExecuteTime": {
     "end_time": "2019-04-19T17:08:32.853669Z",
     "start_time": "2019-04-19T17:08:32.850669Z"
    },
    "scrolled": true
   },
   "outputs": [],
   "source": [
    "reklamy = np.array([3, 4, 5, 6, 5, 7])\n",
    "obroty = np.array([12, 13, 16, 18, 15, 22])\n",
    "\n",
    "# a) wykres rozrzutu\n"
   ]
  },
  {
   "cell_type": "code",
   "execution_count": null,
   "metadata": {
    "ExecuteTime": {
     "end_time": "2019-04-19T17:10:12.877875Z",
     "start_time": "2019-04-19T17:10:12.875874Z"
    }
   },
   "outputs": [],
   "source": [
    "# pearson"
   ]
  },
  {
   "cell_type": "code",
   "execution_count": null,
   "metadata": {
    "ExecuteTime": {
     "end_time": "2019-04-19T16:51:01.601738Z",
     "start_time": "2019-04-19T16:51:01.596737Z"
    }
   },
   "outputs": [],
   "source": [
    "# reklamy względem obrotów"
   ]
  },
  {
   "cell_type": "code",
   "execution_count": null,
   "metadata": {
    "ExecuteTime": {
     "end_time": "2019-04-19T16:51:21.545871Z",
     "start_time": "2019-04-19T16:51:21.542871Z"
    }
   },
   "outputs": [],
   "source": [
    "# obroty  względem reklam"
   ]
  },
  {
   "cell_type": "code",
   "execution_count": null,
   "metadata": {
    "ExecuteTime": {
     "end_time": "2019-04-19T17:10:47.418213Z",
     "start_time": "2019-04-19T17:10:47.415212Z"
    },
    "scrolled": true
   },
   "outputs": [],
   "source": [
    "# ile wyniosą obroty, gdy reklamy = 5"
   ]
  },
  {
   "cell_type": "code",
   "execution_count": null,
   "metadata": {
    "ExecuteTime": {
     "end_time": "2019-04-19T16:52:58.125532Z",
     "start_time": "2019-04-19T16:52:58.120530Z"
    }
   },
   "outputs": [],
   "source": [
    "# ile było reklam jeśli obroty wyniosły 17"
   ]
  },
  {
   "cell_type": "code",
   "execution_count": null,
   "metadata": {
    "ExecuteTime": {
     "end_time": "2019-04-19T16:56:09.765582Z",
     "start_time": "2019-04-19T16:56:09.761581Z"
    }
   },
   "outputs": [],
   "source": [
    "# w ilu % jest wyjaśniana zmienności"
   ]
  },
  {
   "cell_type": "code",
   "execution_count": null,
   "metadata": {
    "ExecuteTime": {
     "end_time": "2019-04-19T16:56:45.975989Z",
     "start_time": "2019-04-19T16:56:45.972988Z"
    }
   },
   "outputs": [],
   "source": [
    "# współczynnik zbieżności"
   ]
  },
  {
   "cell_type": "markdown",
   "metadata": {},
   "source": [
    "<font color='blue'>**Korelacja rangowa**</font> Do opisu korelacji między dwiema cechami mierzalnymi w przypadku kiedy ich liczność jest mała, lub jakościowych jeśli można je uporządkować wykorzystuje się współczynnik korelacji rang Spearmana:\n",
    "\n",
    "$$ r_s = 1 - \\frac{6 \\sum d^2}{n(n^2-1)}$$ gdzie:\n",
    "\n",
    "$d$ to poszczególne różnice między rangami, a $n$ to liczba obserwacji"
   ]
  },
  {
   "cell_type": "markdown",
   "metadata": {},
   "source": [
    "<font color='red'>**Korelacja rangowa**</font>. Czy istnieje zależność między wynikami w nauce X a zamożnością Y? Zebrano w tabeli dane o 7 studentach, nadając im odpowiednie rangi (kolejności). Obliczyć odpowiedni współczynnik korelacji i określić moc zależności.\n",
    "\n",
    "|Student|\tA|\tB|\tC|\tD|\tE|\tF|\tG|\n",
    "|---|---|---|---|---|---|---|---|\n",
    "|nauka X|\t1|\t4|\t2|\t6|\t3|\t7|\t5|\n",
    "|zamożność Y|\t2|\t7|\t6|\t1|\t3|\t5|\t4|\n"
   ]
  },
  {
   "cell_type": "code",
   "execution_count": null,
   "metadata": {
    "ExecuteTime": {
     "end_time": "2019-04-12T15:47:56.018610Z",
     "start_time": "2019-04-12T15:47:56.013618Z"
    },
    "scrolled": true
   },
   "outputs": [],
   "source": [
    "import numpy as np\n",
    "x = np.array([1,4,2,6,3,7,5])\n",
    "y = np.array([2,7,6,1,3,5,4])"
   ]
  },
  {
   "cell_type": "markdown",
   "metadata": {},
   "source": [
    "<font color='blue'>**Zależność między cechami kategorialnymi**</font> W przypadku danych niemetrycznych potrzebujemy innych mierników zależności - współczynnik korelacji Pearsona nie ma tutaj zastosowania. W przypadku kiedy dane mamy w postaci tabeli kontyngencji:\n",
    "\n",
    "|$i/j$|\t$y_1$|\t$y_2$|...|\t$y_s$|\t$\\sum$|\n",
    "|---|---|---|---|---|---|\n",
    "|$x_1$|\t$n_{11}$|\t\t$n_{11}$|\t...|\t$n_{1s}$|\t$n_{1\\_}$|\n",
    "|$x_2$|\t$n_{21}$|\t\t$n_{22}$|\t...|\t$n_{2s}$|\t$n_{2\\_}$|\n",
    "|...|\t... |\t... |...\t |...\t |           ...|\n",
    "|$x_r$|\t$n_{r1}$|\t$n_{r2}$|\t...|\t$n_{rs}$|\t$n_{r\\_}$|\n",
    "|$\\sum$|\t$n_{\\_1}$|\t$n_{\\_2}$|...|\t$n_{\\_s}$|$n$|\n",
    "\n",
    "Możemy obliczać statystyki oparte na miarze $\\chi^2$:\n",
    "\n",
    "$$ \\chi^2 = \\sum_{i=1}^{r} \\sum_{j=1}^{s} \\frac{(n_{ij} - n_{ij}^{\\prime})^2}{n_{ij}^{\\prime}} $$\n",
    "\n",
    "$$ n_{ij}^{\\prime} = \\frac{n_{i\\_} * n_{\\_j}}{n} $$\n",
    "\n",
    "Współczynnik $\\chi^2$na bazie tabeli kontyngencji można wyliczyć za pomocą ``scipy.stats.chi2_contingency``. Pierwszy element zwracanej krotki to interesująca nas wartość $\\chi^2$\n",
    "\n",
    "**Współczynnik Yule'a**\n",
    "\n",
    "$$ \\varphi = \\sqrt{\\frac{\\chi^2}{n}} $$\n",
    "\n",
    "**Współczynnik T-Czuprowa**\n",
    "\n",
    "$$ T = \\sqrt{\\frac{\\chi^2}{n\\sqrt{(r-1)(s-1)}}} $$\n",
    "\n",
    "**Współczynnik V-cramera**\n",
    "\n",
    "$$ V = \\sqrt{\\frac{\\chi^2}{n * min{(r-1)(s-1)}}} $$\n",
    "\n",
    "Im większe wartości, tym wyższa zależność"
   ]
  },
  {
   "cell_type": "markdown",
   "metadata": {},
   "source": [
    "<font color='red'>**Zależność między cechami kategorialnymi**</font>. Pewien element jest wytwarzany równolegle na trzech frezarkach. Zbadano dokładność wykonanych elementów i otrzymano następujące wyniki:\n",
    "\n",
    "|norma|frezarka 1| frezarka 2|\tfrezarka 3|\n",
    "| --- | --- | --- | --- |\n",
    "|wyroby spełniające normę |\t24|\t18 |\t12|\n",
    "|wyroby nie spełniające normy|\t10|\t6|\t8|\n",
    "\n",
    "Czy dokładność wykonania zależy od maszyny?\n"
   ]
  },
  {
   "cell_type": "code",
   "execution_count": null,
   "metadata": {
    "ExecuteTime": {
     "end_time": "2019-04-19T16:44:57.723464Z",
     "start_time": "2019-04-19T16:44:57.713462Z"
    }
   },
   "outputs": [],
   "source": [
    "from scipy.stats import chi2_contingency\n",
    "\n",
    "tab_kont = np.array([[24,18,12],[10,6,8]])\n"
   ]
  },
  {
   "cell_type": "markdown",
   "metadata": {},
   "source": [
    "## Zmienne losowe i ich rozkłady"
   ]
  },
  {
   "cell_type": "markdown",
   "metadata": {},
   "source": [
    "<font color='blue'>**Rozkład dwumianowy**</font>. Wiele razy niezależnie powtarzamy eksperyment, który może mieć tylko dwa wyniki: sukces lub porażka. Rozkład prawdopobieństwa opisujący liczbę sukcesów *k* wśród *n* eksperymentów, ze stałym prawdopobieństwem porażki *p* to rozkład dwumianowy (przyjmuje się też nazwę rozkład Bernouliego). Zmienną losową mającą taki rozkład oznaczamy jako $ X \\tilde{}B(n,p) $.\n",
    "\n",
    "Rozkład prawdopobieństwa:\n",
    "$P(X=k)={n\\choose k}p^k (1-p)^{(n-k)}$ - ``scipy.stats.binom.pmf(k, n, p)``\n",
    "\n",
    "Dystrybuanta:\n",
    "$P(X \\leq k) = F(k)=\\sum_{k \\leq n}{n\\choose k}p^k (1-p)^{(n-k)}$ - ``scipy.stats.binom.cdf(k, n, p)``\n",
    "\n",
    "Wartość oczekiwana:\n",
    "$E(X) = np$\n",
    "\n",
    "Wariancja:\n",
    "$V(X) = np(1-p)$"
   ]
  },
  {
   "cell_type": "markdown",
   "metadata": {},
   "source": [
    "<font color='red'>**Rozkład dwumianowy**</font> 20 % studentów jest wysokich. Jakie jest prawdopodobieństwo, że wśród 5 wybranych losowo studentów jest\n",
    "\n",
    "a) 3 wysokich\n",
    "\n",
    "b) nie więcej niż 2 wysokich\n",
    "\n",
    "c) obliczyć oczekiwaną liczbę wysokich studentów oraz odchylenie standardowe."
   ]
  },
  {
   "cell_type": "code",
   "execution_count": null,
   "metadata": {
    "ExecuteTime": {
     "end_time": "2019-04-18T12:55:58.896980Z",
     "start_time": "2019-04-18T12:55:58.888977Z"
    },
    "scrolled": true
   },
   "outputs": [],
   "source": []
  },
  {
   "cell_type": "markdown",
   "metadata": {},
   "source": [
    "<font color='blue'>**Rozkład Poissona**</font>: Rozkład Poissona jest rozkładem dyskretnym. Opisuje prawdopobieństwo wystąpienia niezależnych, następujących po sobie zdarzeń w danym czasie. Parametrem rozkładu jest częstotliwość $\\lambda$ - ilość zdarzeń w jednostce czasu. Zmienną losową mającą taki rozkład opisujemy $X \\tilde{} Poiss(\\lambda)$\n",
    "\n",
    "Rozkład prawdopobieństwa: $ P(X=k) = \\frac{\\lambda^ke^{-\\lambda}}{k!} $ ``scipy.stats.poisson.pmf(k, mu)``, gdzie mu=$\\lambda$\n",
    "\n",
    "Dystrybuanta:\n",
    "$P(X \\leq k) = F(k)=\\sum_{k \\leq n}\\frac{\\lambda^ke^{-\\lambda}}{k!}  $ - ``scipy.stats.poisson.cdf(k, mu)``, gdzie mu=$\\lambda$\n",
    "\n",
    "Wartość oczekiwana: $E(X) = \\lambda$\n",
    "\n",
    "Wariancja: $V(X) = \\lambda$\n",
    "\n"
   ]
  },
  {
   "cell_type": "markdown",
   "metadata": {},
   "source": [
    "<font color='red'>**Rozkład Poissona** </font> Rozkład liczby nieobecności studentów na zajęciach ze statystyki jest rozkładem Poissona z parametrem $\\lambda=3$.\n",
    "Obliczyć prawdopobieństwo, że student będzie nieobecny w ciągu semestru:\n",
    "\n",
    "a) dokładnie raz\n",
    "\n",
    "b) conajwyżej dwa razy\n",
    "\n",
    "c) więcej niż 5 razy"
   ]
  },
  {
   "cell_type": "code",
   "execution_count": null,
   "metadata": {
    "ExecuteTime": {
     "end_time": "2019-04-18T15:53:09.198749Z",
     "start_time": "2019-04-18T15:53:09.193747Z"
    }
   },
   "outputs": [],
   "source": []
  },
  {
   "cell_type": "markdown",
   "metadata": {},
   "source": [
    "<font color='blue'>**Rozkład normalny**</font> Najważniejszy rozkład statystyczny. Największa część obserwacji skupia się wokół średniej, wartości bardziej oddalone od średniej są znacznie rzadziej reprezentowane. Zmienną losową X o rozkładzie normalnym oznaczamy $X \\tilde{} N(\\mu, \\sigma)$, gdzie $\\mu$ jest średnią, a $\\sigma$ odchyleniem standardowym\n",
    "\n",
    "Funkcja gęstości prawdopobieństwa (w pythonie: ``scipy.stats.norm.pdf(x, loc, scale)`` gdzie loc = $\\mu$, scale=$\\sigma$):\n",
    "$$ f(x) = \\frac{1}{\\sigma \\sqrt{2 \\pi}}e^{\\frac{-(x-\\mu)^2}{2\\sigma^2}}$$\n",
    "\n",
    "Dystrybuanta (w pythonie ``scipy.stats.norm.cdf(x, loc, scale)`` gdzie loc = $\\mu$, scale=$\\sigma$):\n",
    "$$ F(x) = \\int_{-\\infty}^{x} \\frac{1}{\\sigma \\sqrt{2 \\pi}}e^{\\frac{-(x-\\mu)^2}{2\\sigma^2}} dx$$\n",
    "\n",
    "Obliczanie prawdopobieństwa:\n",
    "* $P(X=a)=0$\n",
    "* $P(a \\leq x \\leq b) = P(a<x<b) = \\int_a^b f(x)dx = F(b) - F(a)$\n",
    "* $P(X<a) = \\int_{-\\infty}^a f(x)dx = F(a)$\n",
    "* $P(X>a) = \\int_{a}^{\\infty}f(x)dx = 1 - F(a)$\n",
    "\n",
    "Zwizualizowane prawdopobieństwa dla rozkładu $N(0,1)$:"
   ]
  },
  {
   "cell_type": "code",
   "execution_count": null,
   "metadata": {
    "ExecuteTime": {
     "end_time": "2019-04-18T16:09:45.099935Z",
     "start_time": "2019-04-18T16:09:44.681839Z"
    }
   },
   "outputs": [],
   "source": [
    "from scipy.stats import norm\n",
    "x = np.linspace(-4, 4 , 1000)\n",
    "y1 = norm.pdf(x, 0,1)\n",
    "plt.figure(figsize=(5,11))\n",
    "\n",
    "plt.subplot(3,1,1)\n",
    "prawd = 1 - norm.cdf(1.5, 0, 1)\n",
    "plt.title('P(X > 1.5) = {}'.format(round(prawd,2)), size=15)\n",
    "plt.plot(x, y1, '--', label='f(x) dla N(0,1)')\n",
    "plt.fill_between(x, y1, where=(x>1.5), alpha =0.1, color='red', hatch='X')\n",
    "plt.legend()\n",
    "\n",
    "plt.subplot(3,1,2)\n",
    "prawd = norm.cdf(0.5, 0, 1)\n",
    "plt.title('P(X < 0.5) = {}'.format(round(prawd,2)), size=15)\n",
    "plt.plot(x, y1, '--', label='f(x) dla N(0,1)')\n",
    "plt.fill_between(x, y1, where=(x<0.5), alpha =0.1, color='red', hatch='X')\n",
    "plt.legend()\n",
    "\n",
    "\n",
    "plt.subplot(3,1,3) \n",
    "prawd = norm.cdf(1.5, 0, 1) - norm.cdf(-1, 0, 1)\n",
    "plt.title('P(-1 < X < 1.5) = {}'.format(round(prawd,2)), size=15)\n",
    "plt.plot(x, y1, '--', label='f(x) dla N(0,1)')\n",
    "plt.fill_between(x, y1, where=((x<1.5) & (x>-1)), alpha =0.1, color='red', hatch='X')\n",
    "plt.legend()"
   ]
  },
  {
   "cell_type": "markdown",
   "metadata": {},
   "source": [
    "<font color='red'>**Rozkład normalny**</font> Zmienna losowa X ma rozkład normalny, E(X) = 5 i V(X) = 4.\n",
    "\n",
    "Obliczyć P(X < 6), P(X > 0), P(2 < X <= 7), P(2 < X < 4), P(6 < X <= 8), P(3 < X < 14). P(X >=5)\n",
    "\n",
    "<font size=0.5>* zamień wariancję na odchylenie standardowe</font>"
   ]
  },
  {
   "cell_type": "code",
   "execution_count": null,
   "metadata": {
    "ExecuteTime": {
     "end_time": "2019-04-18T16:00:04.632536Z",
     "start_time": "2019-04-18T16:00:04.622534Z"
    }
   },
   "outputs": [],
   "source": []
  },
  {
   "cell_type": "markdown",
   "metadata": {},
   "source": [
    "<font color='red'>**Rozkład normalny**</font> Naszkicuj wykresy gęstości zmiennych losowych X ~ N(2; 3), Y ~ N(4; 3), Z ~ N(2; 1).\n"
   ]
  },
  {
   "cell_type": "code",
   "execution_count": null,
   "metadata": {
    "ExecuteTime": {
     "end_time": "2019-04-18T16:03:40.490418Z",
     "start_time": "2019-04-18T16:03:40.317377Z"
    }
   },
   "outputs": [],
   "source": []
  },
  {
   "cell_type": "markdown",
   "metadata": {},
   "source": [
    "## Centralne Twierdzenie Graniczne"
   ]
  },
  {
   "cell_type": "markdown",
   "metadata": {
    "ExecuteTime": {
     "end_time": "2019-04-16T23:06:58.909013Z",
     "start_time": "2019-04-16T23:06:58.905010Z"
    }
   },
   "source": [
    "<font color='blue'>**Centralne Twierdzenie Graniczne Lindenberga-Levy'ego**</font>\n",
    "\n",
    "Jeśli $X_1, X_2, ... , X_n$ są zmiennymi losowymi niezależnymi o jednakowych rozkładach, to wówczas dla dużej próby:\n",
    "\n",
    "Zmienna losowa $Y = X_1 + X_2 + ... + X_n$ ma rozkład $N(mn, \\sigma \\sqrt{n})$\n",
    "\n",
    "Zmienna losowa $\\overline{X} = \\frac{1}{n} X_1 + X_2 + ... + X_n$ ma rozkład $ N(m, \\frac{\\sigma}{\\sqrt{n}})$"
   ]
  },
  {
   "cell_type": "markdown",
   "metadata": {},
   "source": [
    "<font color='red'>**CTG dla średniej**</font>\n",
    "\n",
    "Niewielki samolot pasażerski może zabrać (oprócz pilota) czterdziestu pasażerów, przy czym średnia waga pasażera nie może przekraczać 90 kg. Pasażerowie pochodzą z populacji osób, których waga jest zmienną losową o rozkładzie N(80 kg, 25 kg). Jak często zdarzają się przypadki przeciążenia samolotu?"
   ]
  },
  {
   "cell_type": "code",
   "execution_count": null,
   "metadata": {
    "ExecuteTime": {
     "end_time": "2019-04-18T16:49:31.002983Z",
     "start_time": "2019-04-18T16:49:30.995983Z"
    },
    "scrolled": true
   },
   "outputs": [],
   "source": []
  },
  {
   "cell_type": "markdown",
   "metadata": {},
   "source": [
    "<font color='red'>**CTG dla sumy**</font>\n",
    "Dzienne wydatki studentów są dane rozkładem normalnym o średniej 20 pln i odchyleniu równym 15 pln. Jakie jest prawdopobieństwo, że wśród dwóch miesięcy (przyjmij 60 dni) student wyda \n",
    "\n",
    "a) więcej niż 1400 pln\n",
    "\n",
    "b) mniej niż 1100 pln"
   ]
  },
  {
   "cell_type": "code",
   "execution_count": null,
   "metadata": {
    "ExecuteTime": {
     "end_time": "2019-04-19T16:08:36.296836Z",
     "start_time": "2019-04-19T16:08:36.292834Z"
    },
    "scrolled": true
   },
   "outputs": [],
   "source": []
  },
  {
   "cell_type": "markdown",
   "metadata": {},
   "source": [
    "## Estymacja przedziałowa i minimalna liczebność próby"
   ]
  },
  {
   "cell_type": "markdown",
   "metadata": {},
   "source": [
    "<font color='blue'>**Estymacja przedziałowa dla średniej**</font> Chcemy z jakimś prawdopobieństwem (poziomem ufności $1-\\alpha$) podać, że wartości oczekiwana danego rozkładu znajduje się w konkretnym przedziale. Rodzaj postępowania dokonujemy na podstawie kilku czynników: liczebności próby, rozkładu, faktu znania odchylenia standardowego w rozkładzie populacji. Jedym z takich przypadków jest sytuacja, kiedy próbka ma conajmniej 30 elementów, odchylenie standardowe rozkładu w populacji nie jest znane, możemy zdefiniować następujący przedział ufności:\n",
    "\n",
    "$$ (\\overline{X} - t_{\\alpha} \\frac{\\sigma}{\\sqrt{n}}, \\overline{X} + t_{\\alpha} \\frac{\\sigma}{\\sqrt{n}}) $$\n",
    "\n",
    "$\\overline{X}$ - średnia arytmetyczna z próby\n",
    "\n",
    "$t_{\\alpha}$ -  to parametr spełniający $\\phi (t_{\\alpha}) = \\frac{1-\\alpha}{2}$. Możemy go wyliczyć w następujący sposób: ``scipy.stats.norm.ppf(0.5 + (1-alpha)/2)``"
   ]
  },
  {
   "cell_type": "markdown",
   "metadata": {},
   "source": [
    "<font color='red'>**Estymacja przedziałowa dla średniej**</font> W 30-elementowej próbie prostej, złożonej z drzew losowo wybranych z lasu, otrzymano następujące parametry dotyczące średnicy drzew: średnia = 37,3    oraz wariancja = 13,5cm$^2$. Przyjmując poziom ufności 0.95; wyznaczyć przedział ufności dla przeciętnej średnicy drzew."
   ]
  },
  {
   "cell_type": "code",
   "execution_count": null,
   "metadata": {
    "ExecuteTime": {
     "end_time": "2019-04-19T16:15:21.542672Z",
     "start_time": "2019-04-19T16:15:21.537670Z"
    }
   },
   "outputs": [],
   "source": []
  },
  {
   "cell_type": "markdown",
   "metadata": {},
   "source": [
    "<font color='red'>**Estymacja przedziałowa dla średniej**</font> W grupie 900 losowo wybranych pracowników przedsiębiorstwa średnia liczba dni nieobecności w pracy w 2014r. wynosiła 35, a odchylenie standardowe – 3 dni. Przyjmując poziom 0,95, oszacować średnią absencję w pracy wśród ogółu pracowników."
   ]
  },
  {
   "cell_type": "code",
   "execution_count": null,
   "metadata": {
    "ExecuteTime": {
     "end_time": "2019-04-19T16:15:58.017884Z",
     "start_time": "2019-04-19T16:15:58.012880Z"
    }
   },
   "outputs": [],
   "source": []
  },
  {
   "cell_type": "markdown",
   "metadata": {
    "ExecuteTime": {
     "end_time": "2019-04-16T23:25:23.807005Z",
     "start_time": "2019-04-16T23:25:23.802003Z"
    }
   },
   "source": [
    "<font color='blue'>**Estymacja przedziałowa dla odsetka**</font>. Niech $X$ będzie liczbą sukcesów w $n$-elementowej próbie. Wtedy częstość występowania sukcesu $\\hat{p} = \\frac{X_n}{n}$ jest estymatorem prawdopobieństwa sukcesu. Dla dużej próby ($n>100$) możemy oszacować przedziałowo prawdopobieństwo sukcesu na poziomie ufności $1-\\alpha$:\n",
    "\n",
    "$$ (\\hat{p} - t_{\\alpha} * \\sqrt\\frac{\\hat{p}(1-\\hat{p})}{n},  \\hat{p} + t_{\\alpha} * \\sqrt\\frac{\\hat{p}(1-\\hat{p})}{n})$$"
   ]
  },
  {
   "cell_type": "markdown",
   "metadata": {},
   "source": [
    "<font color='red'>**Estymacja przedziałowa dla odsetka**</font> W grupie 3600 losowo wybranych pasażerów warszawskiego metra 1584 osoby stwierdziły, że metro jest dla nich jedynym środkiem dojazdu do pracy. Zbudować przedział ufności dla nieznanej frakcji osób, dla których metro jest jedynym środkiem dojazdu do pracy wśród ogółu pasażerów. Przyjąć poziom ufności 0.95"
   ]
  },
  {
   "cell_type": "code",
   "execution_count": null,
   "metadata": {
    "ExecuteTime": {
     "end_time": "2019-04-19T16:18:26.240840Z",
     "start_time": "2019-04-19T16:18:26.235837Z"
    }
   },
   "outputs": [],
   "source": []
  },
  {
   "cell_type": "markdown",
   "metadata": {},
   "source": [
    "<font color='blue'>**Minimalna liczebość próby dla średniej**</font> Jeśli chcemy znać minimalną liczebność próby, która jest potrzebna do skonstruowania przedziału o określonym poziomie ufności i błędzie szacunku $d$, to korzystamy ze wzoru:\n",
    "$$ n = \\frac{t_{\\alpha}^2\\sigma^2}{d_{x}^2}$$\n",
    "Pamiętamy o zaokrągleniu wyniku w górę do pełnej liczby całkowitej.\n",
    "\n",
    "Maksymalny błąd szacunku $d$ to połowa długości całego przedziału ufności"
   ]
  },
  {
   "cell_type": "markdown",
   "metadata": {},
   "source": [
    "<font color='red'>**Minimalna liczebność próby dla średniej**</font> Jaka powinna być minimalna liczebność próby, niezbędna do oszacowania przeciętnej średnicy drzew, z maksymalnym błędem szacunku nie przekraczającym 1 cm? (α = 0.05). Wiemy że wariancja w populacji wynosi 13.5cm$^2$"
   ]
  },
  {
   "cell_type": "code",
   "execution_count": null,
   "metadata": {
    "ExecuteTime": {
     "end_time": "2019-04-19T16:23:12.019150Z",
     "start_time": "2019-04-19T16:23:12.013149Z"
    }
   },
   "outputs": [],
   "source": []
  },
  {
   "cell_type": "markdown",
   "metadata": {},
   "source": [
    "<font color='blue'>**Minimalna liczebność próby dla odsetka**</font>\n",
    "Jeśli chcemy znać minimalną liczebność próby, która jest potrzebna do skonstruowania przedziału dla odsetka o określonym poziomie ufności i błędzie szacunku $d$, to korzystamy ze wzoru:\n",
    "\n",
    "a) jeśli znamy rząd wielkości $p$ (np. znamy historyczne odsetki z poprzednich badań):\n",
    "$$ n = \\frac{t_{\\alpha}^2p(1-p)}{d_{x}^2}$$\n",
    "b) Jeśli nie znamy rzędu wielkości (robimy badanie pierwszy raz)\n",
    "$$ n = \\frac{t_{\\alpha}^2}{4d_{x}^2}$$\n",
    "\n",
    "Pamiętamy o zaokrągleniu wyniku w górę do pełnej liczby całkowitej"
   ]
  },
  {
   "cell_type": "markdown",
   "metadata": {},
   "source": [
    "<font color='red'>**Minimalna liczebność próby dla odsetka**</font> W wyniku badania stanu zdrowia 100 losowo wybranych dzieci zamieszkałych w Warszawie u 25 stwierdzono wady wzroku (próba wstępna).\n",
    "\n",
    "a) Jak liczna powinna być próba, aby przy poziomie ufności 0,98 oszacować odsetek ogółu dzieci z wadami wzroku w Warszawie, jeśli nie chcemy pomylić się o więcej niż 4%?\n",
    "\n",
    "b) Jak liczna powinna być próba, gdy nie mamy żadnych dodatkowych informacji"
   ]
  },
  {
   "cell_type": "code",
   "execution_count": null,
   "metadata": {
    "ExecuteTime": {
     "end_time": "2019-04-19T16:28:58.092221Z",
     "start_time": "2019-04-19T16:28:58.087221Z"
    }
   },
   "outputs": [],
   "source": []
  }
 ],
 "metadata": {
  "kernelspec": {
   "display_name": "Python 3",
   "language": "python",
   "name": "python3"
  },
  "language_info": {
   "codemirror_mode": {
    "name": "ipython",
    "version": 3
   },
   "file_extension": ".py",
   "mimetype": "text/x-python",
   "name": "python",
   "nbconvert_exporter": "python",
   "pygments_lexer": "ipython3",
   "version": "3.7.2"
  },
  "toc": {
   "base_numbering": 1,
   "nav_menu": {
    "height": "134.986px",
    "width": "183.793px"
   },
   "number_sections": true,
   "sideBar": true,
   "skip_h1_title": false,
   "title_cell": "Table of Contents",
   "title_sidebar": "Contents",
   "toc_cell": false,
   "toc_position": {
    "height": "calc(100% - 180px)",
    "left": "10px",
    "top": "150px",
    "width": "165px"
   },
   "toc_section_display": true,
   "toc_window_display": true
  }
 },
 "nbformat": 4,
 "nbformat_minor": 2
}
