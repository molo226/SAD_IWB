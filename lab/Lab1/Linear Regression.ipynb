{
 "cells": [
  {
   "cell_type": "markdown",
   "metadata": {},
   "source": [
    "## Regresja liniowa\n",
    "W tym notebooku stworzymy model regresji wielorakiej dla zbioru danych 'boston' - naszym zadaniem jest próba predykcji cen domów bazując na pewnych numerycznych zmiennych. \n",
    "* Napiszemy model regresji liniowej od podstaw (bez użycia gotowych pakietów) z jedną zmienną objaśniającą\n",
    "* Wykorzystamy numpy do estymacji parametrów regresji\n",
    "* Zobaczymy jakość dopasowania danych za pomocą RMSE i współczynnika determinacji R2\n",
    "* Napiszemy model regresji z wieloma zmiennymi objaśniającymi od podstaw (numpy)\n",
    "* Wykorzystamy LinearRegression z pakietu sklearn, żeby osiąnąć te same wyniki\n",
    "\n",
    "Zaimportujmy pakiety, i wczytajmy dane"
   ]
  },
  {
   "cell_type": "code",
   "execution_count": 33,
   "metadata": {},
   "outputs": [],
   "source": [
    "import pandas as pd\n",
    "import numpy as np\n",
    "from matplotlib import pyplot as plt\n",
    "\n",
    "%matplotlib inline"
   ]
  },
  {
   "cell_type": "code",
   "execution_count": 109,
   "metadata": {},
   "outputs": [],
   "source": [
    "boston_dataframe = pd.read_csv('boston.csv', index_col=0)"
   ]
  },
  {
   "cell_type": "markdown",
   "metadata": {},
   "source": [
    "Wyświetl podstawowe informacje i statystyki opisowe dotyczące ramki danych"
   ]
  },
  {
   "cell_type": "code",
   "execution_count": null,
   "metadata": {
    "scrolled": true
   },
   "outputs": [],
   "source": []
  },
  {
   "cell_type": "code",
   "execution_count": null,
   "metadata": {},
   "outputs": [],
   "source": []
  },
  {
   "cell_type": "markdown",
   "metadata": {},
   "source": [
    "Boston House Prices dataset\n",
    "===========================\n",
    "\n",
    "Informacje o zmiennych:\n",
    "------\n",
    "Data Set Characteristics:  \n",
    "    :Attribute Information (in order):\n",
    "        - CRIM     per capita crime rate by town\n",
    "        - ZN       proportion of residential land zoned for lots over 25,000 sq.ft.\n",
    "        - INDUS    proportion of non-retail business acres per town\n",
    "        - CHAS     Charles River dummy variable (= 1 if tract bounds river; 0 otherwise)\n",
    "        - NOX      nitric oxides concentration (parts per 10 million)\n",
    "        - RM       average number of rooms per dwelling\n",
    "        - AGE      proportion of owner-occupied units built prior to 1940\n",
    "        - DIS      weighted distances to five Boston employment centres\n",
    "        - RAD      index of accessibility to radial highways\n",
    "        - TAX      full-value property-tax rate per 10,000 USD\n",
    "        - PTRATIO  pupil-teacher ratio by town\n",
    "        - LSTAT    % lower status of the population\n",
    "        - MEDV     Median value of owner-occupied homes in 1000's USD"
   ]
  },
  {
   "cell_type": "markdown",
   "metadata": {},
   "source": [
    "Stwórz obiekt x, który będzie zmienną 'LSTAT' oraz y będący zmienną objaśnianą - za pomocą x będziemy starali się zaprognozować y"
   ]
  },
  {
   "cell_type": "code",
   "execution_count": null,
   "metadata": {},
   "outputs": [],
   "source": []
  },
  {
   "cell_type": "markdown",
   "metadata": {},
   "source": [
    "## Model regresji prostej\n",
    "\n",
    "Będziemy starali się ustalić liniową zależność między dwiema zmiennymi za pomocą prostego modelu regresji liniowej - regresji z jedną zmienną objaśniającą - w tym przypadku zbadamy zależność między zmienną 'LSTAT', określającą udział mieszkańców o niskim statusie społecznym w okolicy danego domu, a ceną mieszkania.\n"
   ]
  },
  {
   "cell_type": "markdown",
   "metadata": {},
   "source": [
    "Model regresji prostej może być przedstawiony w taki sposób\n",
    "\\begin{equation*}\n",
    "Y = \\beta_0 + \\beta_1X\n",
    "\\end{equation*}\n",
    "\n",
    "$\\beta_0$ jest wyrazem wolnym (intercept),\n",
    "\n",
    "$\\beta_1$ jest parametrem nachylenie\n",
    "\n",
    "Powyższe wartości możemy estymować za pomocą:\n",
    "\\begin{equation*}\n",
    "\\beta_1 = \\frac{\\sum_{i=1}^{m} (x_i - \\bar{x})(y_i - \\bar{y})}{\\sum_{i=1}^{m} (x_i - \\bar{x})^2}\n",
    "\\end{equation*}\n",
    "\n",
    "\\begin{equation*}\n",
    "\\beta_0 = \\bar{y} - \\beta_1\\bar{x}\n",
    "\\end{equation*}\n",
    "\n",
    "Zróbmy to w czystym numpy"
   ]
  },
  {
   "cell_type": "markdown",
   "metadata": {},
   "source": [
    "Obliczmy średnie wartości x i y"
   ]
  },
  {
   "cell_type": "code",
   "execution_count": 11,
   "metadata": {},
   "outputs": [],
   "source": []
  },
  {
   "cell_type": "markdown",
   "metadata": {},
   "source": [
    "W tej linijce wpisz wyrażenie obliczające wartość parametru $\\beta_1$"
   ]
  },
  {
   "cell_type": "code",
   "execution_count": 12,
   "metadata": {},
   "outputs": [],
   "source": [
    "b1 ="
   ]
  },
  {
   "cell_type": "markdown",
   "metadata": {},
   "source": [
    "A w tej wartość parametru $\\beta_0$"
   ]
  },
  {
   "cell_type": "code",
   "execution_count": 15,
   "metadata": {},
   "outputs": [],
   "source": [
    "b0 = "
   ]
  },
  {
   "cell_type": "markdown",
   "metadata": {},
   "source": [
    "I wyświetlmy ich wartość"
   ]
  },
  {
   "cell_type": "code",
   "execution_count": 16,
   "metadata": {},
   "outputs": [
    {
     "name": "stdout",
     "output_type": "stream",
     "text": [
      "Slope paramater: -0.9500493537579907 \n",
      "Intercept:34.5538408793831\n"
     ]
    }
   ],
   "source": [
    "print('Slope paramater: {} \\nIntercept:{}'.format(b1, b0))"
   ]
  },
  {
   "cell_type": "markdown",
   "metadata": {},
   "source": [
    "Możemy w ten sposób dokonać predykcji teroetycznej ceny mieszkania w sytuacji, kiedy procent osób o niższym statusie społecznym wynosi:\n",
    "\n",
    "* 10\n",
    "* 15\n",
    "* 20\n",
    "\n",
    "\n",
    "Napisz funkcję 'predict_simple_regression', która jako argument przyjmie parametr b0, b1, oraz wartość oznaczającą procent populacji o niskim statusie, która zwróci wartość prognozowaną. Następnie dokonaj predykcji dla wyżej przedstawionych wartości"
   ]
  },
  {
   "cell_type": "code",
   "execution_count": 27,
   "metadata": {},
   "outputs": [],
   "source": [
    "def predict_simple_regression"
   ]
  },
  {
   "cell_type": "code",
   "execution_count": null,
   "metadata": {},
   "outputs": [],
   "source": []
  },
  {
   "cell_type": "code",
   "execution_count": null,
   "metadata": {},
   "outputs": [],
   "source": []
  },
  {
   "cell_type": "code",
   "execution_count": null,
   "metadata": {},
   "outputs": [],
   "source": []
  },
  {
   "cell_type": "markdown",
   "metadata": {},
   "source": [
    "Ten sam efekt (modelu prostej regresji) możemy osiągnąć za pomocą funkcji numpy.polyfit"
   ]
  },
  {
   "cell_type": "code",
   "execution_count": 21,
   "metadata": {},
   "outputs": [
    {
     "name": "stdout",
     "output_type": "stream",
     "text": [
      "[ -0.95004935  34.55384088]\n"
     ]
    }
   ],
   "source": [
    "fit = np.polyfit(x,y,1)\n",
    "fit_function = np.poly1d(fit) \n",
    "\n",
    "print(fit)"
   ]
  },
  {
   "cell_type": "markdown",
   "metadata": {},
   "source": [
    "Prognozy możemy robić za pomocą naszej funkcji *fit_function*:"
   ]
  },
  {
   "cell_type": "code",
   "execution_count": 22,
   "metadata": {},
   "outputs": [
    {
     "data": {
      "text/plain": [
       "25.053347341803192"
      ]
     },
     "execution_count": 22,
     "metadata": {},
     "output_type": "execute_result"
    }
   ],
   "source": [
    "fit_fn(10)\n",
    "fit_fn(15)\n",
    "fit_fn(20)"
   ]
  },
  {
   "cell_type": "markdown",
   "metadata": {},
   "source": [
    "We can plot the regression line against the data it was fitted on"
   ]
  },
  {
   "cell_type": "code",
   "execution_count": 1,
   "metadata": {
    "ExecuteTime": {
     "end_time": "2019-03-22T21:59:07.990582Z",
     "start_time": "2019-03-22T21:59:07.927567Z"
    },
    "scrolled": true
   },
   "outputs": [
    {
     "ename": "NameError",
     "evalue": "name 'np' is not defined",
     "output_type": "error",
     "traceback": [
      "\u001b[1;31m---------------------------------------------------------------------------\u001b[0m",
      "\u001b[1;31mNameError\u001b[0m                                 Traceback (most recent call last)",
      "\u001b[1;32m<ipython-input-1-8b551c90fdb7>\u001b[0m in \u001b[0;36m<module>\u001b[1;34m\u001b[0m\n\u001b[1;32m----> 1\u001b[1;33m \u001b[0mx_domain\u001b[0m \u001b[1;33m=\u001b[0m \u001b[0mnp\u001b[0m\u001b[1;33m.\u001b[0m\u001b[0mlinspace\u001b[0m\u001b[1;33m(\u001b[0m\u001b[0mnp\u001b[0m\u001b[1;33m.\u001b[0m\u001b[0mmin\u001b[0m\u001b[1;33m(\u001b[0m\u001b[0mx\u001b[0m\u001b[1;33m)\u001b[0m\u001b[1;33m,\u001b[0m \u001b[0mnp\u001b[0m\u001b[1;33m.\u001b[0m\u001b[0mmax\u001b[0m\u001b[1;33m(\u001b[0m\u001b[0mx\u001b[0m\u001b[1;33m)\u001b[0m\u001b[1;33m,\u001b[0m \u001b[1;36m1000\u001b[0m\u001b[1;33m)\u001b[0m\u001b[1;33m\u001b[0m\u001b[1;33m\u001b[0m\u001b[0m\n\u001b[0m\u001b[0;32m      2\u001b[0m \u001b[0my_line\u001b[0m \u001b[1;33m=\u001b[0m \u001b[0mb0\u001b[0m \u001b[1;33m+\u001b[0m \u001b[0mb1\u001b[0m \u001b[1;33m*\u001b[0m \u001b[0mx_domain\u001b[0m\u001b[1;33m\u001b[0m\u001b[1;33m\u001b[0m\u001b[0m\n\u001b[0;32m      3\u001b[0m \u001b[1;33m\u001b[0m\u001b[0m\n\u001b[0;32m      4\u001b[0m \u001b[1;31m# regression line\u001b[0m\u001b[1;33m\u001b[0m\u001b[1;33m\u001b[0m\u001b[1;33m\u001b[0m\u001b[0m\n\u001b[0;32m      5\u001b[0m \u001b[0mplt\u001b[0m\u001b[1;33m.\u001b[0m\u001b[0mplot\u001b[0m\u001b[1;33m(\u001b[0m\u001b[0mx_domain\u001b[0m\u001b[1;33m,\u001b[0m \u001b[0my_line\u001b[0m\u001b[1;33m,\u001b[0m \u001b[0mcolor\u001b[0m\u001b[1;33m=\u001b[0m\u001b[1;34m'blue'\u001b[0m\u001b[1;33m,\u001b[0m \u001b[0mlabel\u001b[0m\u001b[1;33m=\u001b[0m\u001b[1;34m'Regresja'\u001b[0m\u001b[1;33m)\u001b[0m\u001b[1;33m\u001b[0m\u001b[1;33m\u001b[0m\u001b[0m\n",
      "\u001b[1;31mNameError\u001b[0m: name 'np' is not defined"
     ]
    }
   ],
   "source": [
    "dziedzina = np.linspace(np.min(x), np.max(x), 1000)\n",
    "y_line = b0 + b1 * dziedzina\n",
    "\n",
    "# regression line\n",
    "plt.plot(dziedzina, y_line, color='blue', label='Regresja')\n",
    "# data points\n",
    "plt.scatter(x, y, c='red', label='Data points')\n",
    "\n",
    "plt.title('Prosty model regresji \\n', size=20)\n",
    "plt.xlabel('% udział mieszkańców o niskim statusie społecznym w okolicy')\n",
    "plt.ylabel('Ceny mieszkań')\n",
    "plt.legend()\n",
    "plt.show()"
   ]
  },
  {
   "cell_type": "markdown",
   "metadata": {},
   "source": [
    "Miarą błędu jest Root Mean Squared Error \n",
    "\n",
    "\\begin{equation*}\n",
    "RMSE = \\sqrt{\\sum_{i=1}^{m} \\frac{1}{m} (\\hat{y_i} - y_i)^2}\n",
    "\\end{equation*}\n",
    "\n",
    "Żeby go policzyć, musimy dokonać predykcji dla wszystkich elementów ze zbioru"
   ]
  },
  {
   "cell_type": "code",
   "execution_count": 42,
   "metadata": {},
   "outputs": [
    {
     "name": "stdout",
     "output_type": "stream",
     "text": [
      "0    29.822595\n",
      "1    25.870390\n",
      "2    30.725142\n",
      "3    31.760696\n",
      "4    29.490078\n",
      "5    29.604084\n",
      "6    22.744727\n",
      "7    16.360396\n",
      "8     6.118864\n",
      "9    18.307997\n",
      "Name: LSTAT, dtype: float64\n"
     ]
    }
   ],
   "source": [
    "predictions = predict_simple_regression(x)\n",
    "# pokażmy 10 pierwszych predykcji\n",
    "print(predictions[:10])"
   ]
  },
  {
   "cell_type": "markdown",
   "metadata": {},
   "source": [
    "Napisz funkcję implementującą błąd rmse (przyjuje wektor wartości prawdziwych, oraz tych prognozowanych)"
   ]
  },
  {
   "cell_type": "code",
   "execution_count": 50,
   "metadata": {},
   "outputs": [],
   "source": []
  },
  {
   "cell_type": "markdown",
   "metadata": {},
   "source": [
    "A następnie oblicz błąd dla naszego modelu regresji liniowej"
   ]
  },
  {
   "cell_type": "code",
   "execution_count": 51,
   "metadata": {
    "scrolled": true
   },
   "outputs": [
    {
     "data": {
      "text/plain": [
       "6.2034641314264203"
      ]
     },
     "execution_count": 51,
     "metadata": {},
     "output_type": "execute_result"
    }
   ],
   "source": [
    "rmse(predictions, y)"
   ]
  },
  {
   "cell_type": "markdown",
   "metadata": {},
   "source": [
    "Do tego samego możemy użyć mean_squared_error z sklearn.metrics package (należy jeszcze dodać pierwiastek)"
   ]
  },
  {
   "cell_type": "code",
   "execution_count": 69,
   "metadata": {},
   "outputs": [],
   "source": [
    "from sklearn.metrics import mean_squared_error"
   ]
  },
  {
   "cell_type": "code",
   "execution_count": 56,
   "metadata": {
    "scrolled": true
   },
   "outputs": [
    {
     "name": "stdout",
     "output_type": "stream",
     "text": [
      "MSE: 38.48296722989415\n",
      "RMSE: 6.20346413142642\n"
     ]
    }
   ],
   "source": [
    "print('MSE: {}'.format(mean_squared_error(predictions, y)))\n",
    "print('RMSE: {}'.format(np.sqrt(mean_squared_error(predictions, y))))"
   ]
  },
  {
   "cell_type": "markdown",
   "metadata": {},
   "source": [
    "Jest do wykorzystania ustandaryzowana  miara jakości dopasowania - współczynnik determinacji  $R^2$ \n",
    "\\begin{equation}\n",
    "SS_t = \\sum_{i=1}^{m} (y_i - \\bar{y})^2\n",
    "\\end{equation}\n",
    "\\begin{equation}\n",
    "SS_r = \\sum_{i=1}^{m} (y_i - \\hat{y_i})^2\n",
    "\\end{equation}\n",
    "\\begin{equation}\n",
    "R^2 \\equiv 1 - \\frac{SS_r}{SS_t}\n",
    "\\end{equation}\n",
    "\n",
    "$R^2$ przyjmuje wartości z zakresu 0 - 1, i może być wykorzystywane do porównywania różnych modeli regresji. Zaimplementujmy teraz funkcję liczącą błąd ;)"
   ]
  },
  {
   "cell_type": "code",
   "execution_count": 65,
   "metadata": {},
   "outputs": [],
   "source": [
    "def r_squared_from_scratch(y_true, predictions):\n",
    "    sst = \n",
    "    ssr = \n",
    "    return 1 - ssr/sst"
   ]
  },
  {
   "cell_type": "markdown",
   "metadata": {},
   "source": [
    "Ile wyniesie wartość współczynnika R2, dla naszego modelu?"
   ]
  },
  {
   "cell_type": "code",
   "execution_count": 66,
   "metadata": {
    "scrolled": true
   },
   "outputs": [
    {
     "data": {
      "text/plain": [
       "0.5441462975864797"
      ]
     },
     "execution_count": 66,
     "metadata": {},
     "output_type": "execute_result"
    }
   ],
   "source": [
    "r_squared_from_scratch(y, predictions)"
   ]
  },
  {
   "cell_type": "markdown",
   "metadata": {},
   "source": [
    "To samo możemy osiągnąć za pomocą r2_score:"
   ]
  },
  {
   "cell_type": "code",
   "execution_count": 68,
   "metadata": {},
   "outputs": [
    {
     "name": "stdout",
     "output_type": "stream",
     "text": [
      "0.544146297586\n"
     ]
    }
   ],
   "source": [
    "from  sklearn.metrics import r2_score\n",
    "print(r2_score(y, predictions))"
   ]
  },
  {
   "cell_type": "markdown",
   "metadata": {},
   "source": [
    "## Model regresji wielorakiej"
   ]
  },
  {
   "cell_type": "markdown",
   "metadata": {},
   "source": [
    "Możemy teraz rozszerzyć nasz model, i wykorzystać więcej zmiennych niezależnych (objaśniających). Wzór wygląda tak\n",
    "\n",
    "\\begin{equation}\n",
    "Y = \\beta_0 + \\beta_1x_1 + \\beta_1x_2 + … + \\beta_nx_n\n",
    "\\end{equation}\n",
    "\n",
    "Klasyczna metoda najmniejszych kwadratów może zostać wykorzystana do optymalizacji. Zaimplementujemy ją na macierzach, potrzebne będą własności\n",
    "\n",
    "\\begin{equation}\n",
    "\\beta = (X^TX)^{-1}X^Ty\n",
    "\\end{equation}\n",
    "\n",
    "gdzie $X$ jest macierzą zmiennych niezależnych (musimy tylko pamiętać o dodaniu kolumny z jedynkami - żeby oszacować wartość parametru $\\beta_0$)"
   ]
  },
  {
   "cell_type": "markdown",
   "metadata": {},
   "source": [
    "Dodajmy kolumnę o nazwie 'b0', która będzie przyjmowała wartości 1"
   ]
  },
  {
   "cell_type": "code",
   "execution_count": 72,
   "metadata": {},
   "outputs": [],
   "source": [
    "boston_dataframe['b0'] = 1"
   ]
  },
  {
   "cell_type": "markdown",
   "metadata": {},
   "source": [
    "Now implement function that computes the vector of $\\beta$ parameters.\n",
    "\n",
    "Przydatne funkcje:\n",
    "* np.linalg.inv - odwrócenie macierzy\n",
    "* .transpose() - transpozycja macierzy\n",
    "* .dot() - mnożenie macierzy (pamiętaj, że w przypadku operacji na macierzach, kolejność w mnożeniu ma znaczenie)"
   ]
  },
  {
   "cell_type": "code",
   "execution_count": 78,
   "metadata": {},
   "outputs": [],
   "source": [
    "coeffs = "
   ]
  },
  {
   "cell_type": "markdown",
   "metadata": {},
   "source": [
    "Wyświetlmy estymowane parametry"
   ]
  },
  {
   "cell_type": "code",
   "execution_count": 79,
   "metadata": {},
   "outputs": [
    {
     "data": {
      "text/plain": [
       "array([ -1.07170557e-01,   4.63952195e-02,   2.08602395e-02,\n",
       "         2.68856140e+00,  -1.77957587e+01,   3.80475246e+00,\n",
       "         7.51061703e-04,  -1.47575880e+00,   3.05655038e-01,\n",
       "        -1.23293463e-02,  -9.53463555e-01,   9.39251272e-03,\n",
       "        -5.25466633e-01,   3.64911033e+01])"
      ]
     },
     "execution_count": 79,
     "metadata": {},
     "output_type": "execute_result"
    }
   ],
   "source": [
    "coeffs"
   ]
  },
  {
   "cell_type": "markdown",
   "metadata": {},
   "source": [
    "Dodajmy informację o tym jaka to zmienna:"
   ]
  },
  {
   "cell_type": "code",
   "execution_count": 77,
   "metadata": {},
   "outputs": [
    {
     "data": {
      "text/html": [
       "<div>\n",
       "<style>\n",
       "    .dataframe thead tr:only-child th {\n",
       "        text-align: right;\n",
       "    }\n",
       "\n",
       "    .dataframe thead th {\n",
       "        text-align: left;\n",
       "    }\n",
       "\n",
       "    .dataframe tbody tr th {\n",
       "        vertical-align: top;\n",
       "    }\n",
       "</style>\n",
       "<table border=\"1\" class=\"dataframe\">\n",
       "  <thead>\n",
       "    <tr style=\"text-align: right;\">\n",
       "      <th></th>\n",
       "      <th>coeefs</th>\n",
       "      <th>names</th>\n",
       "    </tr>\n",
       "  </thead>\n",
       "  <tbody>\n",
       "    <tr>\n",
       "      <th>0</th>\n",
       "      <td>-0.107171</td>\n",
       "      <td>CRIM</td>\n",
       "    </tr>\n",
       "    <tr>\n",
       "      <th>1</th>\n",
       "      <td>0.046395</td>\n",
       "      <td>ZN</td>\n",
       "    </tr>\n",
       "    <tr>\n",
       "      <th>2</th>\n",
       "      <td>0.020860</td>\n",
       "      <td>INDUS</td>\n",
       "    </tr>\n",
       "    <tr>\n",
       "      <th>3</th>\n",
       "      <td>2.688561</td>\n",
       "      <td>CHAS</td>\n",
       "    </tr>\n",
       "    <tr>\n",
       "      <th>4</th>\n",
       "      <td>-17.795759</td>\n",
       "      <td>NOX</td>\n",
       "    </tr>\n",
       "    <tr>\n",
       "      <th>5</th>\n",
       "      <td>3.804752</td>\n",
       "      <td>RM</td>\n",
       "    </tr>\n",
       "    <tr>\n",
       "      <th>6</th>\n",
       "      <td>0.000751</td>\n",
       "      <td>AGE</td>\n",
       "    </tr>\n",
       "    <tr>\n",
       "      <th>7</th>\n",
       "      <td>-1.475759</td>\n",
       "      <td>DIS</td>\n",
       "    </tr>\n",
       "    <tr>\n",
       "      <th>8</th>\n",
       "      <td>0.305655</td>\n",
       "      <td>RAD</td>\n",
       "    </tr>\n",
       "    <tr>\n",
       "      <th>9</th>\n",
       "      <td>-0.012329</td>\n",
       "      <td>TAX</td>\n",
       "    </tr>\n",
       "    <tr>\n",
       "      <th>10</th>\n",
       "      <td>-0.953464</td>\n",
       "      <td>PTRATIO</td>\n",
       "    </tr>\n",
       "    <tr>\n",
       "      <th>11</th>\n",
       "      <td>0.009393</td>\n",
       "      <td>B</td>\n",
       "    </tr>\n",
       "    <tr>\n",
       "      <th>12</th>\n",
       "      <td>-0.525467</td>\n",
       "      <td>LSTAT</td>\n",
       "    </tr>\n",
       "    <tr>\n",
       "      <th>13</th>\n",
       "      <td>36.491103</td>\n",
       "      <td>b0</td>\n",
       "    </tr>\n",
       "  </tbody>\n",
       "</table>\n",
       "</div>"
      ],
      "text/plain": [
       "       coeefs    names\n",
       "0   -0.107171     CRIM\n",
       "1    0.046395       ZN\n",
       "2    0.020860    INDUS\n",
       "3    2.688561     CHAS\n",
       "4  -17.795759      NOX\n",
       "5    3.804752       RM\n",
       "6    0.000751      AGE\n",
       "7   -1.475759      DIS\n",
       "8    0.305655      RAD\n",
       "9   -0.012329      TAX\n",
       "10  -0.953464  PTRATIO\n",
       "11   0.009393        B\n",
       "12  -0.525467    LSTAT\n",
       "13  36.491103       b0"
      ]
     },
     "execution_count": 77,
     "metadata": {},
     "output_type": "execute_result"
    }
   ],
   "source": [
    "pd.DataFrame({'names': boston_dataframe.columns.tolist(), 'coeffs': coeffs})"
   ]
  },
  {
   "cell_type": "markdown",
   "metadata": {},
   "source": [
    "Łatwiej będzie skorzystać z pakietu linear_model"
   ]
  },
  {
   "cell_type": "code",
   "execution_count": 92,
   "metadata": {},
   "outputs": [
    {
     "data": {
      "text/plain": [
       "LinearRegression(copy_X=True, fit_intercept=False, n_jobs=1, normalize=False)"
      ]
     },
     "execution_count": 92,
     "metadata": {},
     "output_type": "execute_result"
    }
   ],
   "source": [
    "from sklearn import linear_model\n",
    "\n",
    "# fit_intercept ustawiamy na false, bo mamy w danych już kolumnę do estymacji wyrazu wolnego\n",
    "regr = linear_model.LinearRegression(fit_intercept=False)\n",
    "\n",
    "# dopasujmy\n",
    "regr.fit(boston_dataframe, y)"
   ]
  },
  {
   "cell_type": "markdown",
   "metadata": {},
   "source": [
    "Jak wyglądają wyestymowane parametry regresji?"
   ]
  },
  {
   "cell_type": "code",
   "execution_count": 87,
   "metadata": {},
   "outputs": [
    {
     "data": {
      "text/plain": [
       "array([ -1.07170557e-01,   4.63952195e-02,   2.08602395e-02,\n",
       "         2.68856140e+00,  -1.77957587e+01,   3.80475246e+00,\n",
       "         7.51061703e-04,  -1.47575880e+00,   3.05655038e-01,\n",
       "        -1.23293463e-02,  -9.53463555e-01,   9.39251272e-03,\n",
       "        -5.25466633e-01,   3.64911033e+01])"
      ]
     },
     "execution_count": 87,
     "metadata": {},
     "output_type": "execute_result"
    }
   ],
   "source": [
    "regr.coef_"
   ]
  },
  {
   "cell_type": "markdown",
   "metadata": {
    "ExecuteTime": {
     "end_time": "2019-03-22T22:13:18.177818Z",
     "start_time": "2019-03-22T22:13:18.174829Z"
    }
   },
   "source": [
    "W trochę przyjaźniejszej formie:"
   ]
  },
  {
   "cell_type": "code",
   "execution_count": 88,
   "metadata": {},
   "outputs": [
    {
     "data": {
      "text/html": [
       "<div>\n",
       "<style>\n",
       "    .dataframe thead tr:only-child th {\n",
       "        text-align: right;\n",
       "    }\n",
       "\n",
       "    .dataframe thead th {\n",
       "        text-align: left;\n",
       "    }\n",
       "\n",
       "    .dataframe tbody tr th {\n",
       "        vertical-align: top;\n",
       "    }\n",
       "</style>\n",
       "<table border=\"1\" class=\"dataframe\">\n",
       "  <thead>\n",
       "    <tr style=\"text-align: right;\">\n",
       "      <th></th>\n",
       "      <th>coeffs</th>\n",
       "      <th>names</th>\n",
       "    </tr>\n",
       "  </thead>\n",
       "  <tbody>\n",
       "    <tr>\n",
       "      <th>0</th>\n",
       "      <td>-0.107171</td>\n",
       "      <td>CRIM</td>\n",
       "    </tr>\n",
       "    <tr>\n",
       "      <th>1</th>\n",
       "      <td>0.046395</td>\n",
       "      <td>ZN</td>\n",
       "    </tr>\n",
       "    <tr>\n",
       "      <th>2</th>\n",
       "      <td>0.020860</td>\n",
       "      <td>INDUS</td>\n",
       "    </tr>\n",
       "    <tr>\n",
       "      <th>3</th>\n",
       "      <td>2.688561</td>\n",
       "      <td>CHAS</td>\n",
       "    </tr>\n",
       "    <tr>\n",
       "      <th>4</th>\n",
       "      <td>-17.795759</td>\n",
       "      <td>NOX</td>\n",
       "    </tr>\n",
       "    <tr>\n",
       "      <th>5</th>\n",
       "      <td>3.804752</td>\n",
       "      <td>RM</td>\n",
       "    </tr>\n",
       "    <tr>\n",
       "      <th>6</th>\n",
       "      <td>0.000751</td>\n",
       "      <td>AGE</td>\n",
       "    </tr>\n",
       "    <tr>\n",
       "      <th>7</th>\n",
       "      <td>-1.475759</td>\n",
       "      <td>DIS</td>\n",
       "    </tr>\n",
       "    <tr>\n",
       "      <th>8</th>\n",
       "      <td>0.305655</td>\n",
       "      <td>RAD</td>\n",
       "    </tr>\n",
       "    <tr>\n",
       "      <th>9</th>\n",
       "      <td>-0.012329</td>\n",
       "      <td>TAX</td>\n",
       "    </tr>\n",
       "    <tr>\n",
       "      <th>10</th>\n",
       "      <td>-0.953464</td>\n",
       "      <td>PTRATIO</td>\n",
       "    </tr>\n",
       "    <tr>\n",
       "      <th>11</th>\n",
       "      <td>0.009393</td>\n",
       "      <td>B</td>\n",
       "    </tr>\n",
       "    <tr>\n",
       "      <th>12</th>\n",
       "      <td>-0.525467</td>\n",
       "      <td>LSTAT</td>\n",
       "    </tr>\n",
       "    <tr>\n",
       "      <th>13</th>\n",
       "      <td>36.491103</td>\n",
       "      <td>b0</td>\n",
       "    </tr>\n",
       "  </tbody>\n",
       "</table>\n",
       "</div>"
      ],
      "text/plain": [
       "       coeffs    names\n",
       "0   -0.107171     CRIM\n",
       "1    0.046395       ZN\n",
       "2    0.020860    INDUS\n",
       "3    2.688561     CHAS\n",
       "4  -17.795759      NOX\n",
       "5    3.804752       RM\n",
       "6    0.000751      AGE\n",
       "7   -1.475759      DIS\n",
       "8    0.305655      RAD\n",
       "9   -0.012329      TAX\n",
       "10  -0.953464  PTRATIO\n",
       "11   0.009393        B\n",
       "12  -0.525467    LSTAT\n",
       "13  36.491103       b0"
      ]
     },
     "execution_count": 88,
     "metadata": {},
     "output_type": "execute_result"
    }
   ],
   "source": [
    "pd.DataFrame({'names': boston_dataframe.columns.tolist(), 'coeffs': regr.coef_})"
   ]
  },
  {
   "cell_type": "markdown",
   "metadata": {},
   "source": [
    "Za pomocą metody .predict() możemy dokonać predykcji ze zbioru danych"
   ]
  },
  {
   "cell_type": "code",
   "execution_count": 89,
   "metadata": {},
   "outputs": [],
   "source": [
    "predictions_scikit ="
   ]
  },
  {
   "cell_type": "markdown",
   "metadata": {},
   "source": [
    "Jaka jest wartość $R^2$ dla takiego modelu?"
   ]
  },
  {
   "cell_type": "code",
   "execution_count": 91,
   "metadata": {},
   "outputs": [
    {
     "name": "stdout",
     "output_type": "stream",
     "text": [
      "0.740607742865\n",
      "0.740607742865\n"
     ]
    }
   ],
   "source": [
    "print(regr.score(boston_dataframe, y))\n",
    "print(r2_score(y, predictions_scikit))"
   ]
  }
 ],
 "metadata": {
  "kernelspec": {
   "display_name": "Python 3",
   "language": "python",
   "name": "python3"
  },
  "language_info": {
   "codemirror_mode": {
    "name": "ipython",
    "version": 3
   },
   "file_extension": ".py",
   "mimetype": "text/x-python",
   "name": "python",
   "nbconvert_exporter": "python",
   "pygments_lexer": "ipython3",
   "version": "3.7.2"
  }
 },
 "nbformat": 4,
 "nbformat_minor": 2
}
