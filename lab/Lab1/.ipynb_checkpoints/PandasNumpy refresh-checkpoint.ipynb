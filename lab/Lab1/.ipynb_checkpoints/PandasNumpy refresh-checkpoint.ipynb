{
 "cells": [
  {
   "cell_type": "markdown",
   "metadata": {},
   "source": [
    "Odświeżenie informacji z podstaw pandasa i numpy"
   ]
  },
  {
   "cell_type": "markdown",
   "metadata": {},
   "source": [
    "1. Zaimportuj pakiety pandas, numpy i matplotlib"
   ]
  },
  {
   "cell_type": "code",
   "execution_count": 2,
   "metadata": {
    "ExecuteTime": {
     "end_time": "2019-03-27T19:38:34.389871Z",
     "start_time": "2019-03-27T19:38:31.015276Z"
    }
   },
   "outputs": [],
   "source": [
    "%matplotlib inline\n",
    "import pandas as pd\n",
    "import numpy as np\n",
    "from matplotlib import pyplot as plt"
   ]
  },
  {
   "cell_type": "markdown",
   "metadata": {},
   "source": [
    "## Numpy"
   ]
  },
  {
   "cell_type": "markdown",
   "metadata": {},
   "source": [
    "1. Stwórz dziesięcioelementowy wektor składający się wyłącznie z samych zer "
   ]
  },
  {
   "cell_type": "code",
   "execution_count": 3,
   "metadata": {
    "ExecuteTime": {
     "end_time": "2019-03-27T19:38:35.324340Z",
     "start_time": "2019-03-27T19:38:35.319339Z"
    }
   },
   "outputs": [
    {
     "data": {
      "text/plain": [
       "array([0., 0., 0., 0., 0., 0., 0., 0., 0., 0.])"
      ]
     },
     "execution_count": 3,
     "metadata": {},
     "output_type": "execute_result"
    }
   ],
   "source": [
    "np.array([0]*10)\n",
    "np.zeros(10)"
   ]
  },
  {
   "cell_type": "markdown",
   "metadata": {},
   "source": [
    "2. Stwórz sześcioelementowy wektor składający się z samych jedynek, i zastąp drugi element wartością 4"
   ]
  },
  {
   "cell_type": "code",
   "execution_count": 4,
   "metadata": {
    "ExecuteTime": {
     "end_time": "2019-03-27T19:38:56.105357Z",
     "start_time": "2019-03-27T19:38:56.097356Z"
    }
   },
   "outputs": [
    {
     "name": "stdout",
     "output_type": "stream",
     "text": [
      "[1. 4. 1. 1. 1. 1.]\n"
     ]
    }
   ],
   "source": [
    "x = np.ones(6)\n",
    "x[1] = 4\n",
    "print(x)"
   ]
  },
  {
   "cell_type": "markdown",
   "metadata": {},
   "source": [
    "3. Stwórz wektor z wartościami od 1 do 15"
   ]
  },
  {
   "cell_type": "code",
   "execution_count": 5,
   "metadata": {
    "ExecuteTime": {
     "end_time": "2019-03-27T19:39:10.974830Z",
     "start_time": "2019-03-27T19:39:10.970829Z"
    }
   },
   "outputs": [
    {
     "name": "stdout",
     "output_type": "stream",
     "text": [
      "[ 1  2  3  4  5  6  7  8  9 10 11 12 13 14 15]\n"
     ]
    }
   ],
   "source": [
    "x = np.arange(1,16)\n",
    "print(x)"
   ]
  },
  {
   "cell_type": "markdown",
   "metadata": {},
   "source": [
    "4. Odwróć kolejność wektora z zad 3."
   ]
  },
  {
   "cell_type": "code",
   "execution_count": 8,
   "metadata": {
    "ExecuteTime": {
     "end_time": "2019-03-27T19:39:34.568945Z",
     "start_time": "2019-03-27T19:39:34.564935Z"
    }
   },
   "outputs": [
    {
     "name": "stdout",
     "output_type": "stream",
     "text": [
      "[15 14 13 12 11 10  9  8  7  6  5  4  3  2  1]\n",
      "[15 14 13 12 11 10  9  8  7  6  5  4  3  2  1]\n"
     ]
    }
   ],
   "source": [
    "print(np.flip(x, axis=0))\n",
    "# or\n",
    "print(x[::-1])"
   ]
  },
  {
   "cell_type": "markdown",
   "metadata": {},
   "source": [
    "5. Stwórz macierz wartości losowych o wymiarze 10 wierszy x 10 kolumn"
   ]
  },
  {
   "cell_type": "code",
   "execution_count": 10,
   "metadata": {
    "ExecuteTime": {
     "end_time": "2019-03-27T19:39:56.131668Z",
     "start_time": "2019-03-27T19:39:56.127667Z"
    }
   },
   "outputs": [
    {
     "name": "stdout",
     "output_type": "stream",
     "text": [
      "[[0.48453414 0.57334365 0.3283424  0.27949899 0.97063618 0.94845366\n",
      "  0.72677515 0.67055559 0.91786525 0.2107091 ]\n",
      " [0.77453088 0.48991929 0.09206285 0.42071078 0.6549062  0.52098158\n",
      "  0.40272121 0.16997627 0.4392915  0.07891477]\n",
      " [0.89197913 0.67194383 0.90217039 0.18878092 0.36114422 0.42937261\n",
      "  0.8117704  0.10076451 0.43298836 0.85491223]\n",
      " [0.20863884 0.21529996 0.79055935 0.09006292 0.27281901 0.52764711\n",
      "  0.62891598 0.1613002  0.24957876 0.55358987]\n",
      " [0.38818143 0.1460542  0.75060232 0.60342704 0.01702806 0.31632383\n",
      "  0.1200028  0.62171724 0.07379988 0.35440449]\n",
      " [0.79970654 0.73589587 0.90427409 0.30766379 0.52086071 0.65875843\n",
      "  0.6482157  0.09383298 0.51075111 0.001659  ]\n",
      " [0.16577517 0.81528607 0.88092158 0.15748006 0.14794432 0.57229416\n",
      "  0.06777001 0.96410487 0.83595192 0.52363656]\n",
      " [0.00947528 0.63113321 0.53306133 0.13559446 0.00663044 0.62407378\n",
      "  0.44872607 0.93202351 0.1895721  0.29945836]\n",
      " [0.86059768 0.21257594 0.23397297 0.90057781 0.89788052 0.53741081\n",
      "  0.64174573 0.9638644  0.58435683 0.15230522]\n",
      " [0.37661809 0.8482606  0.20802454 0.32793256 0.64590545 0.52528721\n",
      "  0.86129322 0.99868656 0.55532173 0.94684311]]\n"
     ]
    }
   ],
   "source": [
    "m = np.random.rand(10,10)\n",
    "print(m)"
   ]
  },
  {
   "cell_type": "markdown",
   "metadata": {},
   "source": [
    "6. Jakim wyrażeniem sprawdzisz wymiary macierzy?"
   ]
  },
  {
   "cell_type": "code",
   "execution_count": 15,
   "metadata": {
    "ExecuteTime": {
     "end_time": "2019-03-27T19:40:10.028800Z",
     "start_time": "2019-03-27T19:40:10.024799Z"
    }
   },
   "outputs": [
    {
     "data": {
      "text/plain": [
       "(10, 10)"
      ]
     },
     "execution_count": 15,
     "metadata": {},
     "output_type": "execute_result"
    }
   ],
   "source": [
    "m.shape"
   ]
  },
  {
   "cell_type": "markdown",
   "metadata": {
    "ExecuteTime": {
     "end_time": "2019-03-21T19:16:26.932631Z",
     "start_time": "2019-03-21T19:16:26.929639Z"
    }
   },
   "source": [
    "7. Stwórz macierz 6x6, wypełnij ją zerami, a diagonalną wypełnij liczbami od 1 do 6"
   ]
  },
  {
   "cell_type": "code",
   "execution_count": 27,
   "metadata": {
    "ExecuteTime": {
     "end_time": "2019-03-27T19:43:19.995302Z",
     "start_time": "2019-03-27T19:43:19.988301Z"
    }
   },
   "outputs": [
    {
     "name": "stdout",
     "output_type": "stream",
     "text": [
      "[[1. 0. 0. 0. 0. 0.]\n",
      " [0. 2. 0. 0. 0. 0.]\n",
      " [0. 0. 3. 0. 0. 0.]\n",
      " [0. 0. 0. 4. 0. 0.]\n",
      " [0. 0. 0. 0. 5. 0.]\n",
      " [0. 0. 0. 0. 0. 6.]]\n",
      "[[1. 0. 0. 0. 0. 0.]\n",
      " [0. 2. 0. 0. 0. 0.]\n",
      " [0. 0. 3. 0. 0. 0.]\n",
      " [0. 0. 0. 4. 0. 0.]\n",
      " [0. 0. 0. 0. 5. 0.]\n",
      " [0. 0. 0. 0. 0. 6.]]\n",
      "[[1 0 0 0 0 0]\n",
      " [0 2 0 0 0 0]\n",
      " [0 0 3 0 0 0]\n",
      " [0 0 0 4 0 0]\n",
      " [0 0 0 0 5 0]\n",
      " [0 0 0 0 0 6]]\n"
     ]
    }
   ],
   "source": [
    "# 1\n",
    "m = np.zeros((6,6))\n",
    "np.fill_diagonal(m, np.arange(1,7))\n",
    "print(m)\n",
    "\n",
    "# 2\n",
    "m = np.zeros((6,6))\n",
    "indeksy_diag = np.diag_indices_from(m) # dla konkretnej macierzy, dla dowolnej - np.diag_indices(6,ndim=2)\n",
    "m[indeksy_diag] = np.arange(1,7)\n",
    "print(m)\n",
    "\n",
    "# 3\n",
    "print(np.diag(np.arange(1,7))) # tworzy zerową macierz ze zdefiniowaną diagonalną"
   ]
  },
  {
   "cell_type": "markdown",
   "metadata": {},
   "source": [
    "8. Stwórz losową macierz o wielkości 8x4, i następnie zestandaryzuj jej kolumny (dla każdej zmiennej, dla każdej jej wartości odejmij wartość średnią, i podziel przez odchylenie standardowe)"
   ]
  },
  {
   "cell_type": "code",
   "execution_count": 31,
   "metadata": {
    "ExecuteTime": {
     "end_time": "2019-03-27T19:44:25.152061Z",
     "start_time": "2019-03-27T19:44:25.147059Z"
    }
   },
   "outputs": [
    {
     "data": {
      "text/plain": [
       "array([[ 1.03403505,  0.0350613 , -0.69019093, -0.81504773],\n",
       "       [-0.30724484,  0.88770689,  0.43881926, -0.97578384],\n",
       "       [ 1.40284611,  0.71696198,  1.48498921,  1.35342952],\n",
       "       [-1.16548543,  1.10462591,  0.72143689,  1.77228916],\n",
       "       [-0.40897837,  0.91420074, -1.0834495 , -0.03050562],\n",
       "       [ 1.27631717, -1.54713952, -0.96529725,  0.00642971],\n",
       "       [-0.78044408, -1.1507589 ,  1.16384197, -0.13067813],\n",
       "       [-1.0510456 , -0.9606584 , -1.07014965, -1.18013308]])"
      ]
     },
     "execution_count": 31,
     "metadata": {},
     "output_type": "execute_result"
    }
   ],
   "source": [
    "m = np.random.rand(8,4)\n",
    "means = np.mean(m, axis=0)\n",
    "stds = np.std(m, axis=0)\n",
    "\n",
    "(m-means)/stds"
   ]
  },
  {
   "cell_type": "markdown",
   "metadata": {},
   "source": [
    "9. Z losowej macierzy 6x6:\n",
    "    * wskaż element największy i jego indeks\n",
    "    * wskaż element najmniejszy i jego indeks"
   ]
  },
  {
   "cell_type": "code",
   "execution_count": 39,
   "metadata": {
    "ExecuteTime": {
     "end_time": "2019-03-27T19:46:38.095825Z",
     "start_time": "2019-03-27T19:46:38.089833Z"
    }
   },
   "outputs": [
    {
     "name": "stdout",
     "output_type": "stream",
     "text": [
      "[[0.36923025 0.2452683  0.20066106 0.48503936 0.87910189 0.8677988 ]\n",
      " [0.21594978 0.81229303 0.54702743 0.83897409 0.88070077 0.79575614]\n",
      " [0.81216528 0.2172456  0.4444656  0.6501464  0.14585791 0.06648835]\n",
      " [0.09512169 0.45302953 0.42361323 0.31143509 0.30450155 0.67723643]\n",
      " [0.3332301  0.19553368 0.14843975 0.3292855  0.4272359  0.03472479]\n",
      " [0.0743259  0.98982769 0.60414597 0.78262245 0.31976085 0.57068486]]\n",
      "0.9898276898339443\n",
      "(array([5], dtype=int64), array([1], dtype=int64))\n",
      "(5, 1)\n",
      "0.03472479398657491\n",
      "(array([4], dtype=int64), array([5], dtype=int64))\n",
      "(4, 5)\n"
     ]
    }
   ],
   "source": [
    "m = np.random.rand(6,6)\n",
    "print(m)\n",
    "\n",
    "# max:\n",
    "print(m.max())\n",
    "print(np.where(m==m.max())) # or:\n",
    "print(np.unravel_index(m.argmax(), (6,6)))\n",
    "\n",
    "# min:\n",
    "print(m.min())\n",
    "print(np.where(m==m.min())) # or:\n",
    "print(np.unravel_index(m.argmin(), (6,6)))"
   ]
  },
  {
   "cell_type": "markdown",
   "metadata": {},
   "source": [
    "10. Wszytkie elementy z wektora [1,0,2,3,4,0,2,0,0,2,0] będące powyżej zera, zastąp jedynką"
   ]
  },
  {
   "cell_type": "code",
   "execution_count": 40,
   "metadata": {
    "ExecuteTime": {
     "end_time": "2019-03-27T19:47:13.775986Z",
     "start_time": "2019-03-27T19:47:13.772987Z"
    }
   },
   "outputs": [],
   "source": [
    "x = np.array([1,0,2,3,4,0,2,0,0,2,0])\n",
    "x[x > 0] = 1\n",
    "print(x)"
   ]
  },
  {
   "cell_type": "markdown",
   "metadata": {},
   "source": [
    "11. Znajdź niezerowe elementy wektora [0,0,1,2,0,1,13,0,-1]."
   ]
  },
  {
   "cell_type": "code",
   "execution_count": 44,
   "metadata": {
    "ExecuteTime": {
     "end_time": "2019-03-27T19:48:11.710717Z",
     "start_time": "2019-03-27T19:48:11.706726Z"
    }
   },
   "outputs": [
    {
     "name": "stdout",
     "output_type": "stream",
     "text": [
      "[ 1  2  1 13 -1]\n",
      "[ 1  2  1 13 -1]\n"
     ]
    }
   ],
   "source": [
    "x = np.array([0,0,1,2,0,1,13,0,-1])\n",
    "print(x[np.nonzero(x)]) # or\n",
    "print(x[x!=0])"
   ]
  },
  {
   "cell_type": "markdown",
   "metadata": {},
   "source": [
    "12. Stwórz losowy wektor 40-elementowy i znajdź jego średnią, medianę, odchylenie standardowe, pierwszy decyl, dziewiąty decyl, kwartyl1 i kwartyl3"
   ]
  },
  {
   "cell_type": "code",
   "execution_count": 49,
   "metadata": {
    "ExecuteTime": {
     "end_time": "2019-03-27T19:50:41.838623Z",
     "start_time": "2019-03-27T19:50:41.833634Z"
    }
   },
   "outputs": [
    {
     "name": "stdout",
     "output_type": "stream",
     "text": [
      "Srednia: 0.4662629831094701 \n",
      "Mediana: 0.45022288731128507\n",
      "Odch. st: 0.3054802656929429\n",
      "D1, D9, K1, K3: [0.05656684 0.89547736 0.17170559 0.75249667]\n"
     ]
    }
   ],
   "source": [
    "x = np.random.rand(40)\n",
    "print('Srednia: {} \\nMediana: {}\\nOdch. st: {}\\nD1, D9, K1, K3: {}'.format(\n",
    "    np.mean(x), np.median(x), np.std(x), np.percentile(x, [10, 90, 25, 75])\n",
    "))"
   ]
  },
  {
   "cell_type": "markdown",
   "metadata": {},
   "source": [
    "13. Posortuj powyższy wektor"
   ]
  },
  {
   "cell_type": "code",
   "execution_count": 52,
   "metadata": {
    "ExecuteTime": {
     "end_time": "2019-03-27T19:50:53.014047Z",
     "start_time": "2019-03-27T19:50:53.011046Z"
    }
   },
   "outputs": [
    {
     "name": "stdout",
     "output_type": "stream",
     "text": [
      "[0.00263284 0.01923231 0.05174399 0.05520294 0.05671839 0.11717324\n",
      " 0.13731207 0.16545614 0.16590958 0.16856701 0.17275178 0.19841595\n",
      " 0.22989313 0.24915421 0.32554911 0.35231335 0.36414235 0.40771353\n",
      " 0.42928449 0.4429544  0.45749138 0.48672818 0.48729781 0.51016036\n",
      " 0.52061492 0.60416717 0.62651338 0.62926582 0.63335807 0.74945137\n",
      " 0.76163255 0.77105234 0.7921645  0.83029407 0.87774312 0.88991617\n",
      " 0.94552802 0.97463353 0.99118048 0.9992053 ]\n"
     ]
    }
   ],
   "source": [
    "x.sort()\n",
    "print(x)"
   ]
  },
  {
   "cell_type": "markdown",
   "metadata": {},
   "source": [
    "14. Stwórz 10-elementowy wektor z wartościami od 0 do 1, mającymi równe odstępy"
   ]
  },
  {
   "cell_type": "code",
   "execution_count": 53,
   "metadata": {
    "ExecuteTime": {
     "end_time": "2019-03-27T19:51:02.230890Z",
     "start_time": "2019-03-27T19:51:02.226889Z"
    }
   },
   "outputs": [
    {
     "data": {
      "text/plain": [
       "array([0.        , 0.11111111, 0.22222222, 0.33333333, 0.44444444,\n",
       "       0.55555556, 0.66666667, 0.77777778, 0.88888889, 1.        ])"
      ]
     },
     "execution_count": 53,
     "metadata": {},
     "output_type": "execute_result"
    }
   ],
   "source": [
    "np.linspace(0,1,10)"
   ]
  },
  {
   "cell_type": "markdown",
   "metadata": {},
   "source": [
    "15. Stwórz losowy wektor składający się z miliona elementów, i porównaj czas wykonywania operacji podniesienia do sześcianu różnymi metodami."
   ]
  },
  {
   "cell_type": "code",
   "execution_count": 54,
   "metadata": {
    "ExecuteTime": {
     "end_time": "2019-03-27T19:51:12.662911Z",
     "start_time": "2019-03-27T19:51:04.692071Z"
    },
    "scrolled": true
   },
   "outputs": [
    {
     "name": "stdout",
     "output_type": "stream",
     "text": [
      "28.1 ms ± 74.9 µs per loop (mean ± std. dev. of 7 runs, 10 loops each)\n",
      "6.98 ms ± 63.9 µs per loop (mean ± std. dev. of 7 runs, 100 loops each)\n"
     ]
    }
   ],
   "source": [
    "import numpy as np\n",
    "\n",
    "x = np.random.rand(1000000)\n",
    "%timeit np.power(x, 3)\n",
    "%timeit x*x*x"
   ]
  },
  {
   "cell_type": "markdown",
   "metadata": {},
   "source": [
    "## Pandas"
   ]
  },
  {
   "cell_type": "markdown",
   "metadata": {},
   "source": [
    "Będziemy pracować na ramce danych (pandas.DataFrame):"
   ]
  },
  {
   "cell_type": "code",
   "execution_count": 55,
   "metadata": {
    "ExecuteTime": {
     "end_time": "2019-03-27T19:52:58.964556Z",
     "start_time": "2019-03-27T19:52:58.959565Z"
    }
   },
   "outputs": [],
   "source": [
    "dane = {\n",
    "    'gender': ['m'] * 5 + ['f'] * 5,\n",
    "    'age': [23, 24, 25, 28, 32, 54, 21, np.nan, 45, np.nan],\n",
    "    'earnings': [2500, np.nan, 2700, 3400, 2500, 2900, 4300, 3400, 3250, 1100]\n",
    "}\n",
    "indeks = ['a', 'b', 'c', 'd', 'e', 'f', 'g', 'h', 'i', 'j']"
   ]
  },
  {
   "cell_type": "markdown",
   "metadata": {
    "ExecuteTime": {
     "end_time": "2019-03-21T19:43:57.751851Z",
     "start_time": "2019-03-21T19:43:57.743859Z"
    }
   },
   "source": [
    "16. Stwórz ramkę danych, w której dane będą zasilone słownikiem 'dane', a indeksy wierszy to lista 'indeks'"
   ]
  },
  {
   "cell_type": "code",
   "execution_count": 56,
   "metadata": {
    "ExecuteTime": {
     "end_time": "2019-03-27T19:53:08.574609Z",
     "start_time": "2019-03-27T19:53:08.567607Z"
    }
   },
   "outputs": [],
   "source": [
    "frame = pd.DataFrame(dane, index=indeks)"
   ]
  },
  {
   "cell_type": "markdown",
   "metadata": {},
   "source": [
    "17. Wyświetl typy zmiennych w ramce"
   ]
  },
  {
   "cell_type": "code",
   "execution_count": 59,
   "metadata": {
    "ExecuteTime": {
     "end_time": "2019-03-27T19:53:28.215680Z",
     "start_time": "2019-03-27T19:53:28.210688Z"
    }
   },
   "outputs": [
    {
     "data": {
      "text/plain": [
       "gender       object\n",
       "age         float64\n",
       "earnings    float64\n",
       "dtype: object"
      ]
     },
     "execution_count": 59,
     "metadata": {},
     "output_type": "execute_result"
    }
   ],
   "source": [
    "frame.dtypes"
   ]
  },
  {
   "cell_type": "code",
   "execution_count": 60,
   "metadata": {
    "ExecuteTime": {
     "end_time": "2019-03-27T19:53:34.456448Z",
     "start_time": "2019-03-27T19:53:34.450455Z"
    }
   },
   "outputs": [
    {
     "name": "stdout",
     "output_type": "stream",
     "text": [
      "<class 'pandas.core.frame.DataFrame'>\n",
      "Index: 10 entries, a to j\n",
      "Data columns (total 3 columns):\n",
      "gender      10 non-null object\n",
      "age         8 non-null float64\n",
      "earnings    9 non-null float64\n",
      "dtypes: float64(2), object(1)\n",
      "memory usage: 320.0+ bytes\n"
     ]
    }
   ],
   "source": [
    "frame.info()"
   ]
  },
  {
   "cell_type": "markdown",
   "metadata": {},
   "source": [
    "18. Wyświetl podstawowe statystyki opisowe za pomocą odpowiedniej metody"
   ]
  },
  {
   "cell_type": "code",
   "execution_count": 61,
   "metadata": {
    "ExecuteTime": {
     "end_time": "2019-03-27T19:53:41.577385Z",
     "start_time": "2019-03-27T19:53:41.563382Z"
    }
   },
   "outputs": [
    {
     "data": {
      "text/html": [
       "<div>\n",
       "<style scoped>\n",
       "    .dataframe tbody tr th:only-of-type {\n",
       "        vertical-align: middle;\n",
       "    }\n",
       "\n",
       "    .dataframe tbody tr th {\n",
       "        vertical-align: top;\n",
       "    }\n",
       "\n",
       "    .dataframe thead th {\n",
       "        text-align: right;\n",
       "    }\n",
       "</style>\n",
       "<table border=\"1\" class=\"dataframe\">\n",
       "  <thead>\n",
       "    <tr style=\"text-align: right;\">\n",
       "      <th></th>\n",
       "      <th>age</th>\n",
       "      <th>earnings</th>\n",
       "    </tr>\n",
       "  </thead>\n",
       "  <tbody>\n",
       "    <tr>\n",
       "      <th>count</th>\n",
       "      <td>8.000000</td>\n",
       "      <td>9.000000</td>\n",
       "    </tr>\n",
       "    <tr>\n",
       "      <th>mean</th>\n",
       "      <td>31.500000</td>\n",
       "      <td>2894.444444</td>\n",
       "    </tr>\n",
       "    <tr>\n",
       "      <th>std</th>\n",
       "      <td>11.844227</td>\n",
       "      <td>879.077800</td>\n",
       "    </tr>\n",
       "    <tr>\n",
       "      <th>min</th>\n",
       "      <td>21.000000</td>\n",
       "      <td>1100.000000</td>\n",
       "    </tr>\n",
       "    <tr>\n",
       "      <th>25%</th>\n",
       "      <td>23.750000</td>\n",
       "      <td>2500.000000</td>\n",
       "    </tr>\n",
       "    <tr>\n",
       "      <th>50%</th>\n",
       "      <td>26.500000</td>\n",
       "      <td>2900.000000</td>\n",
       "    </tr>\n",
       "    <tr>\n",
       "      <th>75%</th>\n",
       "      <td>35.250000</td>\n",
       "      <td>3400.000000</td>\n",
       "    </tr>\n",
       "    <tr>\n",
       "      <th>max</th>\n",
       "      <td>54.000000</td>\n",
       "      <td>4300.000000</td>\n",
       "    </tr>\n",
       "  </tbody>\n",
       "</table>\n",
       "</div>"
      ],
      "text/plain": [
       "             age     earnings\n",
       "count   8.000000     9.000000\n",
       "mean   31.500000  2894.444444\n",
       "std    11.844227   879.077800\n",
       "min    21.000000  1100.000000\n",
       "25%    23.750000  2500.000000\n",
       "50%    26.500000  2900.000000\n",
       "75%    35.250000  3400.000000\n",
       "max    54.000000  4300.000000"
      ]
     },
     "execution_count": 61,
     "metadata": {},
     "output_type": "execute_result"
    }
   ],
   "source": [
    "frame.describe()"
   ]
  },
  {
   "cell_type": "markdown",
   "metadata": {},
   "source": [
    "19. Wyświetl pierwsze dwie obserwacje z ramki (dwoma sposobami)"
   ]
  },
  {
   "cell_type": "code",
   "execution_count": 62,
   "metadata": {
    "ExecuteTime": {
     "end_time": "2019-03-27T19:53:57.332542Z",
     "start_time": "2019-03-27T19:53:57.324540Z"
    }
   },
   "outputs": [
    {
     "data": {
      "text/html": [
       "<div>\n",
       "<style scoped>\n",
       "    .dataframe tbody tr th:only-of-type {\n",
       "        vertical-align: middle;\n",
       "    }\n",
       "\n",
       "    .dataframe tbody tr th {\n",
       "        vertical-align: top;\n",
       "    }\n",
       "\n",
       "    .dataframe thead th {\n",
       "        text-align: right;\n",
       "    }\n",
       "</style>\n",
       "<table border=\"1\" class=\"dataframe\">\n",
       "  <thead>\n",
       "    <tr style=\"text-align: right;\">\n",
       "      <th></th>\n",
       "      <th>gender</th>\n",
       "      <th>age</th>\n",
       "      <th>earnings</th>\n",
       "    </tr>\n",
       "  </thead>\n",
       "  <tbody>\n",
       "    <tr>\n",
       "      <th>a</th>\n",
       "      <td>m</td>\n",
       "      <td>23.0</td>\n",
       "      <td>2500.0</td>\n",
       "    </tr>\n",
       "    <tr>\n",
       "      <th>b</th>\n",
       "      <td>m</td>\n",
       "      <td>24.0</td>\n",
       "      <td>NaN</td>\n",
       "    </tr>\n",
       "  </tbody>\n",
       "</table>\n",
       "</div>"
      ],
      "text/plain": [
       "  gender   age  earnings\n",
       "a      m  23.0    2500.0\n",
       "b      m  24.0       NaN"
      ]
     },
     "execution_count": 62,
     "metadata": {},
     "output_type": "execute_result"
    }
   ],
   "source": [
    "frame.head(2)\n",
    "frame.iloc[0:2,]"
   ]
  },
  {
   "cell_type": "markdown",
   "metadata": {},
   "source": [
    "20. Wyświetl trzy ostatnie obserwacje z podanej ramki (dwoma sposobami)"
   ]
  },
  {
   "cell_type": "code",
   "execution_count": 64,
   "metadata": {
    "ExecuteTime": {
     "end_time": "2019-03-27T19:54:15.974724Z",
     "start_time": "2019-03-27T19:54:15.967729Z"
    }
   },
   "outputs": [
    {
     "data": {
      "text/html": [
       "<div>\n",
       "<style scoped>\n",
       "    .dataframe tbody tr th:only-of-type {\n",
       "        vertical-align: middle;\n",
       "    }\n",
       "\n",
       "    .dataframe tbody tr th {\n",
       "        vertical-align: top;\n",
       "    }\n",
       "\n",
       "    .dataframe thead th {\n",
       "        text-align: right;\n",
       "    }\n",
       "</style>\n",
       "<table border=\"1\" class=\"dataframe\">\n",
       "  <thead>\n",
       "    <tr style=\"text-align: right;\">\n",
       "      <th></th>\n",
       "      <th>gender</th>\n",
       "      <th>age</th>\n",
       "      <th>earnings</th>\n",
       "    </tr>\n",
       "  </thead>\n",
       "  <tbody>\n",
       "    <tr>\n",
       "      <th>h</th>\n",
       "      <td>f</td>\n",
       "      <td>NaN</td>\n",
       "      <td>3400.0</td>\n",
       "    </tr>\n",
       "    <tr>\n",
       "      <th>i</th>\n",
       "      <td>f</td>\n",
       "      <td>45.0</td>\n",
       "      <td>3250.0</td>\n",
       "    </tr>\n",
       "    <tr>\n",
       "      <th>j</th>\n",
       "      <td>f</td>\n",
       "      <td>NaN</td>\n",
       "      <td>1100.0</td>\n",
       "    </tr>\n",
       "  </tbody>\n",
       "</table>\n",
       "</div>"
      ],
      "text/plain": [
       "  gender   age  earnings\n",
       "h      f   NaN    3400.0\n",
       "i      f  45.0    3250.0\n",
       "j      f   NaN    1100.0"
      ]
     },
     "execution_count": 64,
     "metadata": {},
     "output_type": "execute_result"
    }
   ],
   "source": [
    "frame.tail(3)\n",
    "frame.iloc[-3:,]"
   ]
  },
  {
   "cell_type": "markdown",
   "metadata": {},
   "source": [
    "21. Wyświetl kolumnę 'age' i 'earnings' "
   ]
  },
  {
   "cell_type": "code",
   "execution_count": 66,
   "metadata": {
    "ExecuteTime": {
     "end_time": "2019-03-27T19:54:38.306186Z",
     "start_time": "2019-03-27T19:54:38.297183Z"
    }
   },
   "outputs": [
    {
     "data": {
      "text/html": [
       "<div>\n",
       "<style scoped>\n",
       "    .dataframe tbody tr th:only-of-type {\n",
       "        vertical-align: middle;\n",
       "    }\n",
       "\n",
       "    .dataframe tbody tr th {\n",
       "        vertical-align: top;\n",
       "    }\n",
       "\n",
       "    .dataframe thead th {\n",
       "        text-align: right;\n",
       "    }\n",
       "</style>\n",
       "<table border=\"1\" class=\"dataframe\">\n",
       "  <thead>\n",
       "    <tr style=\"text-align: right;\">\n",
       "      <th></th>\n",
       "      <th>age</th>\n",
       "      <th>earnings</th>\n",
       "    </tr>\n",
       "  </thead>\n",
       "  <tbody>\n",
       "    <tr>\n",
       "      <th>a</th>\n",
       "      <td>23.0</td>\n",
       "      <td>2500.0</td>\n",
       "    </tr>\n",
       "    <tr>\n",
       "      <th>b</th>\n",
       "      <td>24.0</td>\n",
       "      <td>NaN</td>\n",
       "    </tr>\n",
       "    <tr>\n",
       "      <th>c</th>\n",
       "      <td>25.0</td>\n",
       "      <td>2700.0</td>\n",
       "    </tr>\n",
       "    <tr>\n",
       "      <th>d</th>\n",
       "      <td>28.0</td>\n",
       "      <td>3400.0</td>\n",
       "    </tr>\n",
       "    <tr>\n",
       "      <th>e</th>\n",
       "      <td>32.0</td>\n",
       "      <td>2500.0</td>\n",
       "    </tr>\n",
       "    <tr>\n",
       "      <th>f</th>\n",
       "      <td>54.0</td>\n",
       "      <td>2900.0</td>\n",
       "    </tr>\n",
       "    <tr>\n",
       "      <th>g</th>\n",
       "      <td>21.0</td>\n",
       "      <td>4300.0</td>\n",
       "    </tr>\n",
       "    <tr>\n",
       "      <th>h</th>\n",
       "      <td>NaN</td>\n",
       "      <td>3400.0</td>\n",
       "    </tr>\n",
       "    <tr>\n",
       "      <th>i</th>\n",
       "      <td>45.0</td>\n",
       "      <td>3250.0</td>\n",
       "    </tr>\n",
       "    <tr>\n",
       "      <th>j</th>\n",
       "      <td>NaN</td>\n",
       "      <td>1100.0</td>\n",
       "    </tr>\n",
       "  </tbody>\n",
       "</table>\n",
       "</div>"
      ],
      "text/plain": [
       "    age  earnings\n",
       "a  23.0    2500.0\n",
       "b  24.0       NaN\n",
       "c  25.0    2700.0\n",
       "d  28.0    3400.0\n",
       "e  32.0    2500.0\n",
       "f  54.0    2900.0\n",
       "g  21.0    4300.0\n",
       "h   NaN    3400.0\n",
       "i  45.0    3250.0\n",
       "j   NaN    1100.0"
      ]
     },
     "execution_count": 66,
     "metadata": {},
     "output_type": "execute_result"
    }
   ],
   "source": [
    "frame.loc[:,['age','earnings']] # or\n",
    "frame[['age', 'earnings']]"
   ]
  },
  {
   "cell_type": "markdown",
   "metadata": {},
   "source": [
    "22. Wyświetl ramkę zawierającą obserwacje nr 1,3,5 z kolumn 'gender' i 'earnings'"
   ]
  },
  {
   "cell_type": "code",
   "execution_count": 68,
   "metadata": {
    "ExecuteTime": {
     "end_time": "2019-03-27T19:55:06.156979Z",
     "start_time": "2019-03-27T19:55:06.147963Z"
    }
   },
   "outputs": [
    {
     "data": {
      "text/html": [
       "<div>\n",
       "<style scoped>\n",
       "    .dataframe tbody tr th:only-of-type {\n",
       "        vertical-align: middle;\n",
       "    }\n",
       "\n",
       "    .dataframe tbody tr th {\n",
       "        vertical-align: top;\n",
       "    }\n",
       "\n",
       "    .dataframe thead th {\n",
       "        text-align: right;\n",
       "    }\n",
       "</style>\n",
       "<table border=\"1\" class=\"dataframe\">\n",
       "  <thead>\n",
       "    <tr style=\"text-align: right;\">\n",
       "      <th></th>\n",
       "      <th>gender</th>\n",
       "      <th>earnings</th>\n",
       "    </tr>\n",
       "  </thead>\n",
       "  <tbody>\n",
       "    <tr>\n",
       "      <th>b</th>\n",
       "      <td>m</td>\n",
       "      <td>NaN</td>\n",
       "    </tr>\n",
       "    <tr>\n",
       "      <th>d</th>\n",
       "      <td>m</td>\n",
       "      <td>3400.0</td>\n",
       "    </tr>\n",
       "    <tr>\n",
       "      <th>f</th>\n",
       "      <td>f</td>\n",
       "      <td>2900.0</td>\n",
       "    </tr>\n",
       "  </tbody>\n",
       "</table>\n",
       "</div>"
      ],
      "text/plain": [
       "  gender  earnings\n",
       "b      m       NaN\n",
       "d      m    3400.0\n",
       "f      f    2900.0"
      ]
     },
     "execution_count": 68,
     "metadata": {},
     "output_type": "execute_result"
    }
   ],
   "source": [
    "frame.iloc[[1,3,5]].loc[:,['gender', 'earnings']]"
   ]
  },
  {
   "cell_type": "markdown",
   "metadata": {
    "ExecuteTime": {
     "end_time": "2019-03-21T19:52:57.810236Z",
     "start_time": "2019-03-21T19:52:57.806236Z"
    }
   },
   "source": [
    "23. Wyświetl obserwacje, w których zarobki są niższe od 3000"
   ]
  },
  {
   "cell_type": "code",
   "execution_count": 70,
   "metadata": {
    "ExecuteTime": {
     "end_time": "2019-03-27T19:55:20.046248Z",
     "start_time": "2019-03-27T19:55:20.037246Z"
    }
   },
   "outputs": [
    {
     "data": {
      "text/html": [
       "<div>\n",
       "<style scoped>\n",
       "    .dataframe tbody tr th:only-of-type {\n",
       "        vertical-align: middle;\n",
       "    }\n",
       "\n",
       "    .dataframe tbody tr th {\n",
       "        vertical-align: top;\n",
       "    }\n",
       "\n",
       "    .dataframe thead th {\n",
       "        text-align: right;\n",
       "    }\n",
       "</style>\n",
       "<table border=\"1\" class=\"dataframe\">\n",
       "  <thead>\n",
       "    <tr style=\"text-align: right;\">\n",
       "      <th></th>\n",
       "      <th>gender</th>\n",
       "      <th>age</th>\n",
       "      <th>earnings</th>\n",
       "    </tr>\n",
       "  </thead>\n",
       "  <tbody>\n",
       "    <tr>\n",
       "      <th>a</th>\n",
       "      <td>m</td>\n",
       "      <td>23.0</td>\n",
       "      <td>2500.0</td>\n",
       "    </tr>\n",
       "    <tr>\n",
       "      <th>c</th>\n",
       "      <td>m</td>\n",
       "      <td>25.0</td>\n",
       "      <td>2700.0</td>\n",
       "    </tr>\n",
       "    <tr>\n",
       "      <th>e</th>\n",
       "      <td>m</td>\n",
       "      <td>32.0</td>\n",
       "      <td>2500.0</td>\n",
       "    </tr>\n",
       "    <tr>\n",
       "      <th>f</th>\n",
       "      <td>f</td>\n",
       "      <td>54.0</td>\n",
       "      <td>2900.0</td>\n",
       "    </tr>\n",
       "    <tr>\n",
       "      <th>j</th>\n",
       "      <td>f</td>\n",
       "      <td>NaN</td>\n",
       "      <td>1100.0</td>\n",
       "    </tr>\n",
       "  </tbody>\n",
       "</table>\n",
       "</div>"
      ],
      "text/plain": [
       "  gender   age  earnings\n",
       "a      m  23.0    2500.0\n",
       "c      m  25.0    2700.0\n",
       "e      m  32.0    2500.0\n",
       "f      f  54.0    2900.0\n",
       "j      f   NaN    1100.0"
      ]
     },
     "execution_count": 70,
     "metadata": {},
     "output_type": "execute_result"
    }
   ],
   "source": [
    "frame[frame['earnings'] < 3000]"
   ]
  },
  {
   "cell_type": "markdown",
   "metadata": {},
   "source": [
    "24. Wyświetl obserwacje, w których znajdują się  braki danych"
   ]
  },
  {
   "cell_type": "code",
   "execution_count": 73,
   "metadata": {
    "ExecuteTime": {
     "end_time": "2019-03-27T19:55:36.496555Z",
     "start_time": "2019-03-27T19:55:36.487553Z"
    }
   },
   "outputs": [
    {
     "data": {
      "text/html": [
       "<div>\n",
       "<style scoped>\n",
       "    .dataframe tbody tr th:only-of-type {\n",
       "        vertical-align: middle;\n",
       "    }\n",
       "\n",
       "    .dataframe tbody tr th {\n",
       "        vertical-align: top;\n",
       "    }\n",
       "\n",
       "    .dataframe thead th {\n",
       "        text-align: right;\n",
       "    }\n",
       "</style>\n",
       "<table border=\"1\" class=\"dataframe\">\n",
       "  <thead>\n",
       "    <tr style=\"text-align: right;\">\n",
       "      <th></th>\n",
       "      <th>gender</th>\n",
       "      <th>age</th>\n",
       "      <th>earnings</th>\n",
       "    </tr>\n",
       "  </thead>\n",
       "  <tbody>\n",
       "    <tr>\n",
       "      <th>b</th>\n",
       "      <td>m</td>\n",
       "      <td>24.0</td>\n",
       "      <td>NaN</td>\n",
       "    </tr>\n",
       "    <tr>\n",
       "      <th>h</th>\n",
       "      <td>f</td>\n",
       "      <td>NaN</td>\n",
       "      <td>3400.0</td>\n",
       "    </tr>\n",
       "    <tr>\n",
       "      <th>j</th>\n",
       "      <td>f</td>\n",
       "      <td>NaN</td>\n",
       "      <td>1100.0</td>\n",
       "    </tr>\n",
       "  </tbody>\n",
       "</table>\n",
       "</div>"
      ],
      "text/plain": [
       "  gender   age  earnings\n",
       "b      m  24.0       NaN\n",
       "h      f   NaN    3400.0\n",
       "j      f   NaN    1100.0"
      ]
     },
     "execution_count": 73,
     "metadata": {},
     "output_type": "execute_result"
    }
   ],
   "source": [
    "frame[frame.isnull().any(axis=1)]"
   ]
  },
  {
   "cell_type": "markdown",
   "metadata": {
    "ExecuteTime": {
     "end_time": "2019-03-21T19:54:35.011423Z",
     "start_time": "2019-03-21T19:54:35.007423Z"
    }
   },
   "source": [
    "25. Wyświetl obserwacje, w których nie znajdują się żadne braki danych"
   ]
  },
  {
   "cell_type": "code",
   "execution_count": 74,
   "metadata": {
    "ExecuteTime": {
     "end_time": "2019-03-27T19:55:43.185254Z",
     "start_time": "2019-03-27T19:55:43.176261Z"
    }
   },
   "outputs": [
    {
     "data": {
      "text/html": [
       "<div>\n",
       "<style scoped>\n",
       "    .dataframe tbody tr th:only-of-type {\n",
       "        vertical-align: middle;\n",
       "    }\n",
       "\n",
       "    .dataframe tbody tr th {\n",
       "        vertical-align: top;\n",
       "    }\n",
       "\n",
       "    .dataframe thead th {\n",
       "        text-align: right;\n",
       "    }\n",
       "</style>\n",
       "<table border=\"1\" class=\"dataframe\">\n",
       "  <thead>\n",
       "    <tr style=\"text-align: right;\">\n",
       "      <th></th>\n",
       "      <th>gender</th>\n",
       "      <th>age</th>\n",
       "      <th>earnings</th>\n",
       "    </tr>\n",
       "  </thead>\n",
       "  <tbody>\n",
       "    <tr>\n",
       "      <th>a</th>\n",
       "      <td>m</td>\n",
       "      <td>23.0</td>\n",
       "      <td>2500.0</td>\n",
       "    </tr>\n",
       "    <tr>\n",
       "      <th>c</th>\n",
       "      <td>m</td>\n",
       "      <td>25.0</td>\n",
       "      <td>2700.0</td>\n",
       "    </tr>\n",
       "    <tr>\n",
       "      <th>d</th>\n",
       "      <td>m</td>\n",
       "      <td>28.0</td>\n",
       "      <td>3400.0</td>\n",
       "    </tr>\n",
       "    <tr>\n",
       "      <th>e</th>\n",
       "      <td>m</td>\n",
       "      <td>32.0</td>\n",
       "      <td>2500.0</td>\n",
       "    </tr>\n",
       "    <tr>\n",
       "      <th>f</th>\n",
       "      <td>f</td>\n",
       "      <td>54.0</td>\n",
       "      <td>2900.0</td>\n",
       "    </tr>\n",
       "    <tr>\n",
       "      <th>g</th>\n",
       "      <td>f</td>\n",
       "      <td>21.0</td>\n",
       "      <td>4300.0</td>\n",
       "    </tr>\n",
       "    <tr>\n",
       "      <th>i</th>\n",
       "      <td>f</td>\n",
       "      <td>45.0</td>\n",
       "      <td>3250.0</td>\n",
       "    </tr>\n",
       "  </tbody>\n",
       "</table>\n",
       "</div>"
      ],
      "text/plain": [
       "  gender   age  earnings\n",
       "a      m  23.0    2500.0\n",
       "c      m  25.0    2700.0\n",
       "d      m  28.0    3400.0\n",
       "e      m  32.0    2500.0\n",
       "f      f  54.0    2900.0\n",
       "g      f  21.0    4300.0\n",
       "i      f  45.0    3250.0"
      ]
     },
     "execution_count": 74,
     "metadata": {},
     "output_type": "execute_result"
    }
   ],
   "source": [
    "frame[~frame.isnull().any(axis=1)]"
   ]
  },
  {
   "cell_type": "markdown",
   "metadata": {},
   "source": [
    "26. Wyświetl obserwacje, gdzie wiek jest niższy od 30, zarobki wyższe od 3000"
   ]
  },
  {
   "cell_type": "code",
   "execution_count": 75,
   "metadata": {
    "ExecuteTime": {
     "end_time": "2019-03-27T19:56:13.324837Z",
     "start_time": "2019-03-27T19:56:13.314835Z"
    }
   },
   "outputs": [
    {
     "data": {
      "text/html": [
       "<div>\n",
       "<style scoped>\n",
       "    .dataframe tbody tr th:only-of-type {\n",
       "        vertical-align: middle;\n",
       "    }\n",
       "\n",
       "    .dataframe tbody tr th {\n",
       "        vertical-align: top;\n",
       "    }\n",
       "\n",
       "    .dataframe thead th {\n",
       "        text-align: right;\n",
       "    }\n",
       "</style>\n",
       "<table border=\"1\" class=\"dataframe\">\n",
       "  <thead>\n",
       "    <tr style=\"text-align: right;\">\n",
       "      <th></th>\n",
       "      <th>gender</th>\n",
       "      <th>age</th>\n",
       "      <th>earnings</th>\n",
       "    </tr>\n",
       "  </thead>\n",
       "  <tbody>\n",
       "    <tr>\n",
       "      <th>d</th>\n",
       "      <td>m</td>\n",
       "      <td>28.0</td>\n",
       "      <td>3400.0</td>\n",
       "    </tr>\n",
       "    <tr>\n",
       "      <th>g</th>\n",
       "      <td>f</td>\n",
       "      <td>21.0</td>\n",
       "      <td>4300.0</td>\n",
       "    </tr>\n",
       "  </tbody>\n",
       "</table>\n",
       "</div>"
      ],
      "text/plain": [
       "  gender   age  earnings\n",
       "d      m  28.0    3400.0\n",
       "g      f  21.0    4300.0"
      ]
     },
     "execution_count": 75,
     "metadata": {},
     "output_type": "execute_result"
    }
   ],
   "source": [
    "frame[(frame['age'] < 30) & (frame['earnings'] > 3000)]\n",
    "\n",
    "# more inspiration for SQL-like queries: https://pandas.pydata.org/pandas-docs/stable/reference/api/pandas.DataFrame.query.html "
   ]
  },
  {
   "cell_type": "markdown",
   "metadata": {},
   "source": [
    "27. Wyświetl obserwacje, w których wiek znajduje się w przedziale [20;25]"
   ]
  },
  {
   "cell_type": "code",
   "execution_count": 77,
   "metadata": {
    "ExecuteTime": {
     "end_time": "2019-03-27T19:56:27.878597Z",
     "start_time": "2019-03-27T19:56:27.868603Z"
    }
   },
   "outputs": [
    {
     "data": {
      "text/html": [
       "<div>\n",
       "<style scoped>\n",
       "    .dataframe tbody tr th:only-of-type {\n",
       "        vertical-align: middle;\n",
       "    }\n",
       "\n",
       "    .dataframe tbody tr th {\n",
       "        vertical-align: top;\n",
       "    }\n",
       "\n",
       "    .dataframe thead th {\n",
       "        text-align: right;\n",
       "    }\n",
       "</style>\n",
       "<table border=\"1\" class=\"dataframe\">\n",
       "  <thead>\n",
       "    <tr style=\"text-align: right;\">\n",
       "      <th></th>\n",
       "      <th>gender</th>\n",
       "      <th>age</th>\n",
       "      <th>earnings</th>\n",
       "    </tr>\n",
       "  </thead>\n",
       "  <tbody>\n",
       "    <tr>\n",
       "      <th>a</th>\n",
       "      <td>m</td>\n",
       "      <td>23.0</td>\n",
       "      <td>2500.0</td>\n",
       "    </tr>\n",
       "    <tr>\n",
       "      <th>b</th>\n",
       "      <td>m</td>\n",
       "      <td>24.0</td>\n",
       "      <td>NaN</td>\n",
       "    </tr>\n",
       "    <tr>\n",
       "      <th>c</th>\n",
       "      <td>m</td>\n",
       "      <td>25.0</td>\n",
       "      <td>2700.0</td>\n",
       "    </tr>\n",
       "    <tr>\n",
       "      <th>g</th>\n",
       "      <td>f</td>\n",
       "      <td>21.0</td>\n",
       "      <td>4300.0</td>\n",
       "    </tr>\n",
       "  </tbody>\n",
       "</table>\n",
       "</div>"
      ],
      "text/plain": [
       "  gender   age  earnings\n",
       "a      m  23.0    2500.0\n",
       "b      m  24.0       NaN\n",
       "c      m  25.0    2700.0\n",
       "g      f  21.0    4300.0"
      ]
     },
     "execution_count": 77,
     "metadata": {},
     "output_type": "execute_result"
    }
   ],
   "source": [
    "frame[frame['age'].between(20,25)]"
   ]
  },
  {
   "cell_type": "markdown",
   "metadata": {},
   "source": [
    "28. Dodaj nowy wiersz o indeksie 'k' ['f',28, 3300]"
   ]
  },
  {
   "cell_type": "code",
   "execution_count": 78,
   "metadata": {
    "ExecuteTime": {
     "end_time": "2019-03-27T19:57:43.417848Z",
     "start_time": "2019-03-27T19:57:43.412847Z"
    }
   },
   "outputs": [],
   "source": [
    "frame.loc['k'] = ['f',28,3300]"
   ]
  },
  {
   "cell_type": "markdown",
   "metadata": {},
   "source": [
    "29. Usuń wiersz 'j' z ramki"
   ]
  },
  {
   "cell_type": "code",
   "execution_count": 79,
   "metadata": {
    "ExecuteTime": {
     "end_time": "2019-03-27T19:57:57.610439Z",
     "start_time": "2019-03-27T19:57:57.607437Z"
    }
   },
   "outputs": [],
   "source": [
    "frame.drop('j', axis=0, inplace=True) # or:\n",
    "frame = frame.drop('j', axis=0)"
   ]
  },
  {
   "cell_type": "markdown",
   "metadata": {
    "ExecuteTime": {
     "end_time": "2019-03-21T19:59:22.558943Z",
     "start_time": "2019-03-21T19:59:22.555943Z"
    }
   },
   "source": [
    "30. Oblicz średnie wynagrodzenie w tym zbiorze"
   ]
  },
  {
   "cell_type": "code",
   "execution_count": 80,
   "metadata": {
    "ExecuteTime": {
     "end_time": "2019-03-27T19:58:22.068805Z",
     "start_time": "2019-03-27T19:58:22.064805Z"
    }
   },
   "outputs": [
    {
     "data": {
      "text/plain": [
       "3138.8888888888887"
      ]
     },
     "execution_count": 80,
     "metadata": {},
     "output_type": "execute_result"
    }
   ],
   "source": [
    "frame['earnings'].mean()"
   ]
  },
  {
   "cell_type": "markdown",
   "metadata": {},
   "source": [
    "31. Oblicz średnie wynagrodzenie wg płci"
   ]
  },
  {
   "cell_type": "code",
   "execution_count": 83,
   "metadata": {
    "ExecuteTime": {
     "end_time": "2019-03-27T19:58:49.911127Z",
     "start_time": "2019-03-27T19:58:49.901125Z"
    }
   },
   "outputs": [
    {
     "data": {
      "text/html": [
       "<div>\n",
       "<style scoped>\n",
       "    .dataframe tbody tr th:only-of-type {\n",
       "        vertical-align: middle;\n",
       "    }\n",
       "\n",
       "    .dataframe tbody tr th {\n",
       "        vertical-align: top;\n",
       "    }\n",
       "\n",
       "    .dataframe thead th {\n",
       "        text-align: right;\n",
       "    }\n",
       "</style>\n",
       "<table border=\"1\" class=\"dataframe\">\n",
       "  <thead>\n",
       "    <tr style=\"text-align: right;\">\n",
       "      <th></th>\n",
       "      <th>earnings</th>\n",
       "    </tr>\n",
       "    <tr>\n",
       "      <th>gender</th>\n",
       "      <th></th>\n",
       "    </tr>\n",
       "  </thead>\n",
       "  <tbody>\n",
       "    <tr>\n",
       "      <th>f</th>\n",
       "      <td>3430.0</td>\n",
       "    </tr>\n",
       "    <tr>\n",
       "      <th>m</th>\n",
       "      <td>2775.0</td>\n",
       "    </tr>\n",
       "  </tbody>\n",
       "</table>\n",
       "</div>"
      ],
      "text/plain": [
       "        earnings\n",
       "gender          \n",
       "f         3430.0\n",
       "m         2775.0"
      ]
     },
     "execution_count": 83,
     "metadata": {},
     "output_type": "execute_result"
    }
   ],
   "source": [
    "frame.groupby('gender').mean().loc[:,['earnings']]"
   ]
  },
  {
   "cell_type": "markdown",
   "metadata": {},
   "source": [
    "32. Posortuj ramkę względem wieku malejąco"
   ]
  },
  {
   "cell_type": "code",
   "execution_count": 84,
   "metadata": {
    "ExecuteTime": {
     "end_time": "2019-03-27T19:59:16.069383Z",
     "start_time": "2019-03-27T19:59:16.061389Z"
    }
   },
   "outputs": [
    {
     "data": {
      "text/html": [
       "<div>\n",
       "<style scoped>\n",
       "    .dataframe tbody tr th:only-of-type {\n",
       "        vertical-align: middle;\n",
       "    }\n",
       "\n",
       "    .dataframe tbody tr th {\n",
       "        vertical-align: top;\n",
       "    }\n",
       "\n",
       "    .dataframe thead th {\n",
       "        text-align: right;\n",
       "    }\n",
       "</style>\n",
       "<table border=\"1\" class=\"dataframe\">\n",
       "  <thead>\n",
       "    <tr style=\"text-align: right;\">\n",
       "      <th></th>\n",
       "      <th>gender</th>\n",
       "      <th>age</th>\n",
       "      <th>earnings</th>\n",
       "    </tr>\n",
       "  </thead>\n",
       "  <tbody>\n",
       "    <tr>\n",
       "      <th>f</th>\n",
       "      <td>f</td>\n",
       "      <td>54.0</td>\n",
       "      <td>2900.0</td>\n",
       "    </tr>\n",
       "    <tr>\n",
       "      <th>i</th>\n",
       "      <td>f</td>\n",
       "      <td>45.0</td>\n",
       "      <td>3250.0</td>\n",
       "    </tr>\n",
       "    <tr>\n",
       "      <th>e</th>\n",
       "      <td>m</td>\n",
       "      <td>32.0</td>\n",
       "      <td>2500.0</td>\n",
       "    </tr>\n",
       "    <tr>\n",
       "      <th>d</th>\n",
       "      <td>m</td>\n",
       "      <td>28.0</td>\n",
       "      <td>3400.0</td>\n",
       "    </tr>\n",
       "    <tr>\n",
       "      <th>k</th>\n",
       "      <td>f</td>\n",
       "      <td>28.0</td>\n",
       "      <td>3300.0</td>\n",
       "    </tr>\n",
       "    <tr>\n",
       "      <th>c</th>\n",
       "      <td>m</td>\n",
       "      <td>25.0</td>\n",
       "      <td>2700.0</td>\n",
       "    </tr>\n",
       "    <tr>\n",
       "      <th>b</th>\n",
       "      <td>m</td>\n",
       "      <td>24.0</td>\n",
       "      <td>NaN</td>\n",
       "    </tr>\n",
       "    <tr>\n",
       "      <th>a</th>\n",
       "      <td>m</td>\n",
       "      <td>23.0</td>\n",
       "      <td>2500.0</td>\n",
       "    </tr>\n",
       "    <tr>\n",
       "      <th>g</th>\n",
       "      <td>f</td>\n",
       "      <td>21.0</td>\n",
       "      <td>4300.0</td>\n",
       "    </tr>\n",
       "    <tr>\n",
       "      <th>h</th>\n",
       "      <td>f</td>\n",
       "      <td>NaN</td>\n",
       "      <td>3400.0</td>\n",
       "    </tr>\n",
       "  </tbody>\n",
       "</table>\n",
       "</div>"
      ],
      "text/plain": [
       "  gender   age  earnings\n",
       "f      f  54.0    2900.0\n",
       "i      f  45.0    3250.0\n",
       "e      m  32.0    2500.0\n",
       "d      m  28.0    3400.0\n",
       "k      f  28.0    3300.0\n",
       "c      m  25.0    2700.0\n",
       "b      m  24.0       NaN\n",
       "a      m  23.0    2500.0\n",
       "g      f  21.0    4300.0\n",
       "h      f   NaN    3400.0"
      ]
     },
     "execution_count": 84,
     "metadata": {},
     "output_type": "execute_result"
    }
   ],
   "source": [
    "frame.sort_values(by='age',ascending=False)"
   ]
  },
  {
   "cell_type": "markdown",
   "metadata": {},
   "source": [
    "33. Zamień w pierwszej kolumnie wszystkie wartości 'f' na 'female', a 'm' na 'male'"
   ]
  },
  {
   "cell_type": "code",
   "execution_count": 85,
   "metadata": {
    "ExecuteTime": {
     "end_time": "2019-03-27T19:59:44.916931Z",
     "start_time": "2019-03-27T19:59:44.912930Z"
    }
   },
   "outputs": [],
   "source": [
    "frame['gender'] = frame['gender'].replace({'f': 'female', 'm': 'male'})"
   ]
  },
  {
   "cell_type": "markdown",
   "metadata": {},
   "source": [
    "34. Wskaż ile jest osób z podziałem na płeć w tym zbiorze"
   ]
  },
  {
   "cell_type": "code",
   "execution_count": 88,
   "metadata": {
    "ExecuteTime": {
     "end_time": "2019-03-27T20:00:32.463529Z",
     "start_time": "2019-03-27T20:00:32.453535Z"
    }
   },
   "outputs": [
    {
     "data": {
      "text/html": [
       "<div>\n",
       "<style scoped>\n",
       "    .dataframe tbody tr th:only-of-type {\n",
       "        vertical-align: middle;\n",
       "    }\n",
       "\n",
       "    .dataframe tbody tr th {\n",
       "        vertical-align: top;\n",
       "    }\n",
       "\n",
       "    .dataframe thead th {\n",
       "        text-align: right;\n",
       "    }\n",
       "</style>\n",
       "<table border=\"1\" class=\"dataframe\">\n",
       "  <thead>\n",
       "    <tr style=\"text-align: right;\">\n",
       "      <th></th>\n",
       "      <th>age</th>\n",
       "      <th>earnings</th>\n",
       "    </tr>\n",
       "    <tr>\n",
       "      <th>gender</th>\n",
       "      <th></th>\n",
       "      <th></th>\n",
       "    </tr>\n",
       "  </thead>\n",
       "  <tbody>\n",
       "    <tr>\n",
       "      <th>female</th>\n",
       "      <td>5</td>\n",
       "      <td>5</td>\n",
       "    </tr>\n",
       "    <tr>\n",
       "      <th>male</th>\n",
       "      <td>5</td>\n",
       "      <td>5</td>\n",
       "    </tr>\n",
       "  </tbody>\n",
       "</table>\n",
       "</div>"
      ],
      "text/plain": [
       "        age  earnings\n",
       "gender               \n",
       "female    5         5\n",
       "male      5         5"
      ]
     },
     "execution_count": 88,
     "metadata": {},
     "output_type": "execute_result"
    }
   ],
   "source": [
    "frame.groupby('gender').count() # non-nulls\n",
    "\n",
    "frame.fillna(-1).groupby('gender').count()"
   ]
  },
  {
   "cell_type": "markdown",
   "metadata": {},
   "source": [
    "35. Dla każdej płci wskaż średnie zarobki, i średni wiek"
   ]
  },
  {
   "cell_type": "code",
   "execution_count": 89,
   "metadata": {
    "ExecuteTime": {
     "end_time": "2019-03-27T20:00:40.806457Z",
     "start_time": "2019-03-27T20:00:40.798464Z"
    }
   },
   "outputs": [
    {
     "data": {
      "text/html": [
       "<div>\n",
       "<style scoped>\n",
       "    .dataframe tbody tr th:only-of-type {\n",
       "        vertical-align: middle;\n",
       "    }\n",
       "\n",
       "    .dataframe tbody tr th {\n",
       "        vertical-align: top;\n",
       "    }\n",
       "\n",
       "    .dataframe thead th {\n",
       "        text-align: right;\n",
       "    }\n",
       "</style>\n",
       "<table border=\"1\" class=\"dataframe\">\n",
       "  <thead>\n",
       "    <tr style=\"text-align: right;\">\n",
       "      <th></th>\n",
       "      <th>age</th>\n",
       "      <th>earnings</th>\n",
       "    </tr>\n",
       "    <tr>\n",
       "      <th>gender</th>\n",
       "      <th></th>\n",
       "      <th></th>\n",
       "    </tr>\n",
       "  </thead>\n",
       "  <tbody>\n",
       "    <tr>\n",
       "      <th>female</th>\n",
       "      <td>37.0</td>\n",
       "      <td>3430.0</td>\n",
       "    </tr>\n",
       "    <tr>\n",
       "      <th>male</th>\n",
       "      <td>26.4</td>\n",
       "      <td>2775.0</td>\n",
       "    </tr>\n",
       "  </tbody>\n",
       "</table>\n",
       "</div>"
      ],
      "text/plain": [
       "         age  earnings\n",
       "gender                \n",
       "female  37.0    3430.0\n",
       "male    26.4    2775.0"
      ]
     },
     "execution_count": 89,
     "metadata": {},
     "output_type": "execute_result"
    }
   ],
   "source": [
    "frame.groupby('gender').mean()"
   ]
  }
 ],
 "metadata": {
  "kernelspec": {
   "display_name": "Python 3",
   "language": "python",
   "name": "python3"
  },
  "language_info": {
   "codemirror_mode": {
    "name": "ipython",
    "version": 3
   },
   "file_extension": ".py",
   "mimetype": "text/x-python",
   "name": "python",
   "nbconvert_exporter": "python",
   "pygments_lexer": "ipython3",
   "version": "3.7.2"
  }
 },
 "nbformat": 4,
 "nbformat_minor": 2
}
