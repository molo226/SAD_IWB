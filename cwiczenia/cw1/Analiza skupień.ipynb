{
 "cells": [
  {
   "cell_type": "markdown",
   "metadata": {},
   "source": [
    "# Analiza skupień"
   ]
  },
  {
   "cell_type": "markdown",
   "metadata": {},
   "source": [
    "Ładujemy niezbędne pakiety"
   ]
  },
  {
   "cell_type": "code",
   "execution_count": null,
   "metadata": {
    "ExecuteTime": {
     "end_time": "2019-03-14T10:39:31.012108Z",
     "start_time": "2019-03-14T10:39:30.492992Z"
    }
   },
   "outputs": [],
   "source": [
    "%matplotlib inline\n",
    "from matplotlib import pyplot as plt\n",
    "from mpl_toolkits.mplot3d import Axes3D\n",
    "\n",
    "import numpy as np\n",
    "import pandas as pd\n",
    "np.set_printoptions(suppress=True)"
   ]
  },
  {
   "cell_type": "markdown",
   "metadata": {},
   "source": [
    "Wczytujemy dane"
   ]
  },
  {
   "cell_type": "code",
   "execution_count": null,
   "metadata": {
    "ExecuteTime": {
     "end_time": "2019-03-14T10:39:31.025112Z",
     "start_time": "2019-03-14T10:39:31.015108Z"
    }
   },
   "outputs": [],
   "source": [
    "klienci_banku = pd.read_csv('banking_data.csv')"
   ]
  },
  {
   "cell_type": "markdown",
   "metadata": {},
   "source": [
    "Wyświetlamy pierwsze wiersze"
   ]
  },
  {
   "cell_type": "code",
   "execution_count": null,
   "metadata": {
    "ExecuteTime": {
     "end_time": "2019-03-14T10:39:31.045116Z",
     "start_time": "2019-03-14T10:39:31.028112Z"
    }
   },
   "outputs": [],
   "source": [
    "klienci_banku.head()"
   ]
  },
  {
   "cell_type": "markdown",
   "metadata": {},
   "source": [
    "Podsumowanie statystyczne ramki danych"
   ]
  },
  {
   "cell_type": "code",
   "execution_count": null,
   "metadata": {
    "ExecuteTime": {
     "end_time": "2019-03-14T10:39:31.075122Z",
     "start_time": "2019-03-14T10:39:31.049119Z"
    },
    "scrolled": false
   },
   "outputs": [],
   "source": [
    "klienci_banku.describe()"
   ]
  },
  {
   "cell_type": "markdown",
   "metadata": {},
   "source": [
    "Stwórz punktowy wykres obserwacji 3D"
   ]
  },
  {
   "cell_type": "code",
   "execution_count": null,
   "metadata": {
    "ExecuteTime": {
     "end_time": "2019-03-14T10:39:31.275166Z",
     "start_time": "2019-03-14T10:39:31.077123Z"
    }
   },
   "outputs": [],
   "source": [
    "fig = plt.figure(figsize=(10,8))\n",
    "ax = Axes3D(fig)\n",
    "ax.scatter(klienci_banku['zarobki'], klienci_banku['oszczednosci'], klienci_banku['wiek'])\n",
    "plt.show()"
   ]
  },
  {
   "cell_type": "markdown",
   "metadata": {},
   "source": [
    "Histogram wieku klientów"
   ]
  },
  {
   "cell_type": "code",
   "execution_count": null,
   "metadata": {
    "ExecuteTime": {
     "end_time": "2019-03-14T10:39:31.447206Z",
     "start_time": "2019-03-14T10:39:31.277168Z"
    }
   },
   "outputs": [],
   "source": [
    "klienci_banku['wiek'].hist(bins=12)\n",
    "plt.title('Rozkład wieku klientów')\n",
    "plt.grid(None)\n",
    "plt.show()"
   ]
  },
  {
   "cell_type": "markdown",
   "metadata": {},
   "source": [
    "Histogram udziału oszczędności w dochodach"
   ]
  },
  {
   "cell_type": "code",
   "execution_count": null,
   "metadata": {
    "ExecuteTime": {
     "end_time": "2019-03-14T10:39:31.575003Z",
     "start_time": "2019-03-14T10:39:31.448206Z"
    }
   },
   "outputs": [],
   "source": [
    "klienci_banku['oszczednosci'].hist(bins=20)\n",
    "plt.title('Rozkład udziału oszczędności w zarobkach klientów')\n",
    "plt.grid(None)\n",
    "plt.show()"
   ]
  },
  {
   "cell_type": "markdown",
   "metadata": {},
   "source": [
    "Rozdkład zarobków klientów"
   ]
  },
  {
   "cell_type": "code",
   "execution_count": null,
   "metadata": {
    "ExecuteTime": {
     "end_time": "2019-03-14T10:39:31.696867Z",
     "start_time": "2019-03-14T10:39:31.576004Z"
    }
   },
   "outputs": [],
   "source": [
    "klienci_banku['zarobki'].hist(bins=15)\n",
    "plt.title('Rozkład zarobków klientów')\n",
    "plt.grid(None)\n",
    "plt.show()"
   ]
  },
  {
   "cell_type": "markdown",
   "metadata": {
    "ExecuteTime": {
     "end_time": "2019-03-14T10:06:36.895860Z",
     "start_time": "2019-03-14T10:06:36.891872Z"
    }
   },
   "source": [
    "Zdefiniuj funkcję przyjmującą dwa wektory i zwracającą odległośc euklidesową między nimi. Oblicz odległość dla przykładowych wektorów x = [10,20], y=[10,22]"
   ]
  },
  {
   "cell_type": "code",
   "execution_count": null,
   "metadata": {
    "ExecuteTime": {
     "end_time": "2019-03-14T10:39:31.703865Z",
     "start_time": "2019-03-14T10:39:31.697866Z"
    }
   },
   "outputs": [],
   "source": [
    "def odleglosc_euklidesowa(obserwacja1, obserwacja2):\n",
    "    return np.sum((obserwacja1 - obserwacja2) ** 2)\n",
    "\n",
    "odleglosc_euklidesowa(np.array([10,20]), np.array([10,22]))"
   ]
  },
  {
   "cell_type": "markdown",
   "metadata": {},
   "source": [
    "Oblicz odległość euklidesową między pierwszym a drugim klientem banku"
   ]
  },
  {
   "cell_type": "code",
   "execution_count": null,
   "metadata": {
    "ExecuteTime": {
     "end_time": "2019-03-14T10:39:31.738873Z",
     "start_time": "2019-03-14T10:39:31.704865Z"
    }
   },
   "outputs": [],
   "source": [
    "print(klienci_banku.iloc[0,:])\n",
    "print(klienci_banku.iloc[1,:])\n",
    "odleglosc_euklidesowa(klienci_banku.iloc[0], klienci_banku.iloc[1])"
   ]
  },
  {
   "cell_type": "markdown",
   "metadata": {
    "ExecuteTime": {
     "end_time": "2019-03-14T10:10:05.501781Z",
     "start_time": "2019-03-14T10:10:05.497780Z"
    }
   },
   "source": [
    "Dokonaj standaryzacji danych (od każdej zmiennej odejmij średnią, i podziel przez jej odchylenie standardowe)"
   ]
  },
  {
   "cell_type": "code",
   "execution_count": null,
   "metadata": {
    "ExecuteTime": {
     "end_time": "2019-03-14T10:39:32.027855Z",
     "start_time": "2019-03-14T10:39:31.739874Z"
    }
   },
   "outputs": [],
   "source": [
    "from sklearn.preprocessing import StandardScaler\n",
    "\n",
    "scaler = StandardScaler()\n",
    "klienci_banku[klienci_banku.columns] = scaler.fit_transform(klienci_banku)\n",
    "\n",
    "\n",
    "# ręcznie wyglądałoby to tak:\n",
    "# ((klienci_banku - klienci_banku.mean()) / klienci_banku.std(ddof=0)).head()"
   ]
  },
  {
   "cell_type": "code",
   "execution_count": null,
   "metadata": {
    "ExecuteTime": {
     "end_time": "2019-03-14T10:39:32.039858Z",
     "start_time": "2019-03-14T10:39:32.028855Z"
    }
   },
   "outputs": [],
   "source": [
    "klienci_banku.head()"
   ]
  },
  {
   "cell_type": "markdown",
   "metadata": {},
   "source": [
    "Dokonaj klastrowania metodą k-średnich. Przyjmij liczbę skupień jako 3"
   ]
  },
  {
   "cell_type": "code",
   "execution_count": null,
   "metadata": {
    "ExecuteTime": {
     "end_time": "2019-03-14T10:39:32.135880Z",
     "start_time": "2019-03-14T10:39:32.040858Z"
    }
   },
   "outputs": [],
   "source": [
    "from sklearn.cluster import KMeans\n",
    "kmeans = KMeans(n_clusters=3)\n",
    "kmeans.fit(klienci_banku)\n",
    "print(kmeans)"
   ]
  },
  {
   "cell_type": "markdown",
   "metadata": {
    "ExecuteTime": {
     "end_time": "2019-03-13T18:52:05.619554Z",
     "start_time": "2019-03-13T18:52:05.590538Z"
    }
   },
   "source": [
    "Do którego skupienia przyporządkowano poszczególne obserwacje?"
   ]
  },
  {
   "cell_type": "code",
   "execution_count": null,
   "metadata": {
    "ExecuteTime": {
     "end_time": "2019-03-14T10:39:32.141881Z",
     "start_time": "2019-03-14T10:39:32.136880Z"
    }
   },
   "outputs": [],
   "source": [
    "kmeans.labels_"
   ]
  },
  {
   "cell_type": "markdown",
   "metadata": {},
   "source": [
    "Jakie są centra skupień? jak byś je scharakteryzował?"
   ]
  },
  {
   "cell_type": "code",
   "execution_count": null,
   "metadata": {
    "ExecuteTime": {
     "end_time": "2019-03-14T10:39:32.153883Z",
     "start_time": "2019-03-14T10:39:32.142882Z"
    }
   },
   "outputs": [],
   "source": [
    "kmeans.cluster_centers_"
   ]
  },
  {
   "cell_type": "code",
   "execution_count": null,
   "metadata": {
    "ExecuteTime": {
     "end_time": "2019-03-14T10:39:32.165887Z",
     "start_time": "2019-03-14T10:39:32.154884Z"
    },
    "scrolled": true
   },
   "outputs": [],
   "source": [
    "scaler.inverse_transform(kmeans.cluster_centers_)"
   ]
  },
  {
   "cell_type": "markdown",
   "metadata": {},
   "source": [
    "Przedstaw na wykresie 3D dane, a kolorem oznacz numer skupiska"
   ]
  },
  {
   "cell_type": "code",
   "execution_count": null,
   "metadata": {
    "ExecuteTime": {
     "end_time": "2019-03-14T10:39:32.342926Z",
     "start_time": "2019-03-14T10:39:32.166887Z"
    }
   },
   "outputs": [],
   "source": [
    "fig = plt.figure(figsize=(10,8))\n",
    "ax = Axes3D(fig)\n",
    "\n",
    "ax.scatter(\n",
    "    klienci_banku['zarobki'],\n",
    "    klienci_banku['oszczednosci'],\n",
    "    klienci_banku['wiek'],\n",
    "    c=kmeans.labels_\n",
    ")\n",
    "plt.title('Wykres punktowy klientów banku')\n",
    "plt.show()"
   ]
  },
  {
   "cell_type": "markdown",
   "metadata": {},
   "source": [
    "Przedstaw miary jakości klastrowania dla tego modelu"
   ]
  },
  {
   "cell_type": "code",
   "execution_count": null,
   "metadata": {
    "ExecuteTime": {
     "end_time": "2019-03-14T10:39:32.349929Z",
     "start_time": "2019-03-14T10:39:32.345927Z"
    }
   },
   "outputs": [],
   "source": [
    "from sklearn import metrics"
   ]
  },
  {
   "cell_type": "code",
   "execution_count": null,
   "metadata": {
    "ExecuteTime": {
     "end_time": "2019-03-14T10:39:32.363931Z",
     "start_time": "2019-03-14T10:39:32.350931Z"
    }
   },
   "outputs": [],
   "source": [
    "kmeans.inertia_"
   ]
  },
  {
   "cell_type": "code",
   "execution_count": null,
   "metadata": {
    "ExecuteTime": {
     "end_time": "2019-03-14T10:39:32.378934Z",
     "start_time": "2019-03-14T10:39:32.364931Z"
    }
   },
   "outputs": [],
   "source": [
    "metrics.silhouette_score(klienci_banku, kmeans.labels_, metric='euclidean')"
   ]
  },
  {
   "cell_type": "code",
   "execution_count": null,
   "metadata": {
    "ExecuteTime": {
     "end_time": "2019-03-14T10:39:32.389938Z",
     "start_time": "2019-03-14T10:39:32.379936Z"
    }
   },
   "outputs": [],
   "source": [
    "metrics.calinski_harabaz_score(klienci_banku, kmeans.labels_)"
   ]
  },
  {
   "cell_type": "markdown",
   "metadata": {},
   "source": [
    "Stwórz pętlę, która będzie tworzyłą modele k-średnich dla liczby skupień z zakresu (2,12), i zapisz po kolei miary jakości dopasowania do kolejnych list"
   ]
  },
  {
   "cell_type": "code",
   "execution_count": null,
   "metadata": {
    "ExecuteTime": {
     "end_time": "2019-03-14T10:39:32.717010Z",
     "start_time": "2019-03-14T10:39:32.390937Z"
    }
   },
   "outputs": [],
   "source": [
    "inertia_scores = []\n",
    "silhouette_scores = []\n",
    "calinski_harabaz_scores = []\n",
    "\n",
    "for i in range(2,12):\n",
    "    kmeans = KMeans(n_clusters=i)\n",
    "    kmeans.fit(klienci_banku)\n",
    "    inertia_scores.append(kmeans.inertia_)\n",
    "    silhouette_scores.append(metrics.silhouette_score(klienci_banku, kmeans.labels_, metric='euclidean'))\n",
    "    calinski_harabaz_scores.append(metrics.calinski_harabaz_score(klienci_banku, kmeans.labels_))\n",
    "    "
   ]
  },
  {
   "cell_type": "code",
   "execution_count": null,
   "metadata": {
    "ExecuteTime": {
     "end_time": "2019-03-14T10:39:32.829033Z",
     "start_time": "2019-03-14T10:39:32.718011Z"
    },
    "scrolled": true
   },
   "outputs": [],
   "source": [
    "plt.scatter(x=np.arange(2,12), y=inertia_scores)"
   ]
  },
  {
   "cell_type": "code",
   "execution_count": null,
   "metadata": {
    "ExecuteTime": {
     "end_time": "2019-03-14T10:39:32.955259Z",
     "start_time": "2019-03-14T10:39:32.830034Z"
    },
    "scrolled": true
   },
   "outputs": [],
   "source": [
    "plt.scatter(x=np.arange(2,12), y=silhouette_scores)"
   ]
  },
  {
   "cell_type": "code",
   "execution_count": null,
   "metadata": {
    "ExecuteTime": {
     "end_time": "2019-03-14T10:39:33.085286Z",
     "start_time": "2019-03-14T10:39:32.957257Z"
    },
    "scrolled": false
   },
   "outputs": [],
   "source": [
    "plt.scatter(x=np.arange(2,12), y=calinski_harabaz_scores)"
   ]
  },
  {
   "cell_type": "markdown",
   "metadata": {},
   "source": [
    "Samodzielnie. Dokonaj grupowania metodą k-średnich za pomocą odpowiednio wybranej liczby skupień. Jak scharakteryzujesz tak powstałe grupy klientów banku?"
   ]
  },
  {
   "cell_type": "code",
   "execution_count": null,
   "metadata": {
    "ExecuteTime": {
     "end_time": "2019-03-14T10:39:33.089288Z",
     "start_time": "2019-03-14T10:39:33.086288Z"
    }
   },
   "outputs": [],
   "source": [
    "# Twój kod"
   ]
  },
  {
   "cell_type": "markdown",
   "metadata": {},
   "source": [
    "#### Metoda aglomeracyjna"
   ]
  },
  {
   "cell_type": "markdown",
   "metadata": {},
   "source": [
    "Przeprowadź proces grupowania za pomocą metody aglomeracyjnej. Wykorzystaj metrykę euklidesową, a jako wiązanie - metodę Warda. Wykreśl dendrogram, i wizualnie oceń na ile klastrów powinno podzielić się daną zbiorowość"
   ]
  },
  {
   "cell_type": "code",
   "execution_count": null,
   "metadata": {
    "ExecuteTime": {
     "end_time": "2019-03-14T10:39:33.141298Z",
     "start_time": "2019-03-14T10:39:33.090287Z"
    }
   },
   "outputs": [],
   "source": [
    "from scipy.cluster.hierarchy import dendrogram, linkage, fcluster"
   ]
  },
  {
   "cell_type": "code",
   "execution_count": null,
   "metadata": {
    "ExecuteTime": {
     "end_time": "2019-03-14T10:39:34.726925Z",
     "start_time": "2019-03-14T10:39:33.142298Z"
    }
   },
   "outputs": [],
   "source": [
    "linkage_matrix = linkage(klienci_banku, 'ward')\n",
    "plt.figure(figsize=(14,6))\n",
    "dendrogram(linkage_matrix, color_threshold=0)\n",
    "plt.show()"
   ]
  },
  {
   "cell_type": "markdown",
   "metadata": {},
   "source": [
    "Przyporządkuj każdą obserwację do odpowiedniego klastra (przyjmij 3 klastry)"
   ]
  },
  {
   "cell_type": "code",
   "execution_count": null,
   "metadata": {
    "ExecuteTime": {
     "end_time": "2019-03-14T10:39:34.732929Z",
     "start_time": "2019-03-14T10:39:34.727924Z"
    }
   },
   "outputs": [],
   "source": [
    "numer_klastra = fcluster(linkage_matrix, t=3, criterion='maxclust')\n",
    "print(numer_klastra)"
   ]
  },
  {
   "cell_type": "code",
   "execution_count": null,
   "metadata": {
    "ExecuteTime": {
     "end_time": "2019-03-14T10:39:34.747932Z",
     "start_time": "2019-03-14T10:39:34.733930Z"
    }
   },
   "outputs": [],
   "source": [
    "srednie = klienci_banku.groupby(numer_klastra).mean()\n",
    "srednie"
   ]
  },
  {
   "cell_type": "code",
   "execution_count": null,
   "metadata": {
    "ExecuteTime": {
     "end_time": "2019-03-14T10:39:34.761935Z",
     "start_time": "2019-03-14T10:39:34.748932Z"
    }
   },
   "outputs": [],
   "source": [
    "scaler.inverse_transform(srednie)"
   ]
  },
  {
   "cell_type": "code",
   "execution_count": null,
   "metadata": {
    "ExecuteTime": {
     "end_time": "2019-03-14T10:39:34.928745Z",
     "start_time": "2019-03-14T10:39:34.763937Z"
    },
    "scrolled": false
   },
   "outputs": [],
   "source": [
    "fig = plt.figure(figsize=(10,8))\n",
    "ax = Axes3D(fig)\n",
    "\n",
    "ax.scatter(\n",
    "    klienci_banku['zarobki'],\n",
    "    klienci_banku['oszczednosci'],\n",
    "    klienci_banku['wiek'],\n",
    "    c=numer_klastra\n",
    ")\n",
    "plt.title('Wykres punktowy klientów banku')\n",
    "plt.show()"
   ]
  },
  {
   "cell_type": "markdown",
   "metadata": {},
   "source": [
    "Samodzielnie - za pomocą analizy skupień scharakteryzuj dane dotyczące sytuacji mieszkaniowej w kalifornii (Zbiór danych California Housing dataset)"
   ]
  },
  {
   "cell_type": "code",
   "execution_count": null,
   "metadata": {
    "ExecuteTime": {
     "end_time": "2019-03-14T10:39:34.965951Z",
     "start_time": "2019-03-14T10:39:34.928745Z"
    }
   },
   "outputs": [],
   "source": [
    "california_housing = pd.read_csv('california_housing.csv')"
   ]
  }
 ],
 "metadata": {
  "kernelspec": {
   "display_name": "Python 3",
   "language": "python",
   "name": "python3"
  },
  "language_info": {
   "codemirror_mode": {
    "name": "ipython",
    "version": 3
   },
   "file_extension": ".py",
   "mimetype": "text/x-python",
   "name": "python",
   "nbconvert_exporter": "python",
   "pygments_lexer": "ipython3",
   "version": "3.7.2"
  }
 },
 "nbformat": 4,
 "nbformat_minor": 2
}
